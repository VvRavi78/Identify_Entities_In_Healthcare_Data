{
  "nbformat": 4,
  "nbformat_minor": 0,
  "metadata": {
    "colab": {
      "provenance": [],
      "authorship_tag": "ABX9TyNN9Xg/paIbns+y/lpioyAf",
      "include_colab_link": true
    },
    "kernelspec": {
      "name": "python3",
      "display_name": "Python 3"
    },
    "language_info": {
      "name": "python"
    }
  },
  "cells": [
    {
      "cell_type": "markdown",
      "metadata": {
        "id": "view-in-github",
        "colab_type": "text"
      },
      "source": [
        "<a href=\"https://colab.research.google.com/github/VvRavi78/Identify_Entities_In_Healthcare_Data/blob/main/NER_Healthcare_Data.ipynb\" target=\"_parent\"><img src=\"https://colab.research.google.com/assets/colab-badge.svg\" alt=\"Open In Colab\"/></a>"
      ]
    },
    {
      "cell_type": "markdown",
      "source": [
        "Identifying Entities(NER) in Healthcare Data\n",
        "\n",
        "By: Venkata Ravi Kumar Vissamsetty"
      ],
      "metadata": {
        "id": "-aPDx5dofcOC"
      }
    },
    {
      "cell_type": "code",
      "source": [
        "# Setting up Google Colab Environment. Please disable if running locally.\n",
        "import pathlib\n",
        "import os\n",
        "base_dir = pathlib.Path('/content/NLP')\n",
        "os.chdir(str(base_dir))"
      ],
      "metadata": {
        "id": "5b27wYTpfRqJ"
      },
      "execution_count": 6,
      "outputs": []
    },
    {
      "cell_type": "code",
      "source": [
        "!ls"
      ],
      "metadata": {
        "colab": {
          "base_uri": "https://localhost:8080/"
        },
        "id": "imQThdRehf7x",
        "outputId": "d5e88bde-cb8f-44f0-8f67-805d2d2fac22"
      },
      "execution_count": 7,
      "outputs": [
        {
          "output_type": "stream",
          "name": "stdout",
          "text": [
            "test_label  test_sent  train_label  train_sent\n"
          ]
        }
      ]
    },
    {
      "cell_type": "code",
      "source": [
        "# Installing and importing required libraries\n",
        "!pip install pycrf\n",
        "!pip install sklearn-crfsuite\n",
        "\n",
        "import spacy\n",
        "import sklearn_crfsuite\n",
        "from sklearn_crfsuite import metrics\n",
        "import pandas as pd\n",
        "\n",
        "model = spacy.load(\"en_core_web_sm\")"
      ],
      "metadata": {
        "colab": {
          "base_uri": "https://localhost:8080/"
        },
        "id": "DbWcAYUFhoHT",
        "outputId": "f9ea5389-6227-45ea-9ad8-e157afb4ccc6"
      },
      "execution_count": 8,
      "outputs": [
        {
          "output_type": "stream",
          "name": "stdout",
          "text": [
            "Looking in indexes: https://pypi.org/simple, https://us-python.pkg.dev/colab-wheels/public/simple/\n",
            "Collecting pycrf\n",
            "  Downloading pycrf-0.0.1.tar.gz (1.1 kB)\n",
            "Building wheels for collected packages: pycrf\n",
            "  Building wheel for pycrf (setup.py) ... \u001b[?25l\u001b[?25hdone\n",
            "  Created wheel for pycrf: filename=pycrf-0.0.1-py3-none-any.whl size=1897 sha256=7895ff12db1d05513c6c14c14ad349bbf8d0563957f42a6abcc6435052d9b1e2\n",
            "  Stored in directory: /root/.cache/pip/wheels/0b/68/37/a457e156cfd6174ed28c9c8cb76f18eeb559b760d84c0a22eb\n",
            "Successfully built pycrf\n",
            "Installing collected packages: pycrf\n",
            "Successfully installed pycrf-0.0.1\n",
            "Looking in indexes: https://pypi.org/simple, https://us-python.pkg.dev/colab-wheels/public/simple/\n",
            "Collecting sklearn-crfsuite\n",
            "  Downloading sklearn_crfsuite-0.3.6-py2.py3-none-any.whl (12 kB)\n",
            "Collecting python-crfsuite>=0.8.3\n",
            "  Downloading python_crfsuite-0.9.8-cp37-cp37m-manylinux_2_17_x86_64.manylinux2014_x86_64.whl (965 kB)\n",
            "\u001b[K     |████████████████████████████████| 965 kB 4.9 MB/s \n",
            "\u001b[?25hRequirement already satisfied: six in /usr/local/lib/python3.7/dist-packages (from sklearn-crfsuite) (1.15.0)\n",
            "Requirement already satisfied: tqdm>=2.0 in /usr/local/lib/python3.7/dist-packages (from sklearn-crfsuite) (4.64.1)\n",
            "Requirement already satisfied: tabulate in /usr/local/lib/python3.7/dist-packages (from sklearn-crfsuite) (0.8.10)\n",
            "Installing collected packages: python-crfsuite, sklearn-crfsuite\n",
            "Successfully installed python-crfsuite-0.9.8 sklearn-crfsuite-0.3.6\n"
          ]
        }
      ]
    },
    {
      "cell_type": "markdown",
      "source": [
        "**Data Preprocessing**\n",
        "The dataset provided is in the form of one word per line. Let's understand the format of data below:\n",
        "\n",
        "1. If there are X words in a sentence, then there will be X continuous lines with one word in each line.\n",
        "2. Two sentences are separated by empty lines. \n",
        "3. The labels for the data follow the same format.\n",
        "\n",
        "We need to pre-process the data to recover the complete sentences and their labels.\n",
        "\n",
        "Construct the proper sentences from individual words and print the 5 sentences.\n",
        "\n"
      ],
      "metadata": {
        "id": "gu3izdxXh3vT"
      }
    },
    {
      "cell_type": "code",
      "source": [
        "# Reading the train and test sentences and labels\n",
        "with open('train_sent', 'r') as train_sent_file:\n",
        "  train_words = train_sent_file.readlines()\n",
        "\n",
        "with open('train_label', 'r') as train_labels_file:\n",
        "  train_labels_by_word = train_labels_file.readlines()\n",
        "\n",
        "with open('test_sent', 'r') as test_sent_file:\n",
        "  test_words = test_sent_file.readlines()\n",
        "\n",
        "with open('test_label', 'r') as test_labels_file:\n",
        "  test_labels_by_word = test_labels_file.readlines()"
      ],
      "metadata": {
        "id": "2ftlewqri73-"
      },
      "execution_count": 9,
      "outputs": []
    },
    {
      "cell_type": "code",
      "source": [
        "# Check to see if the # of tokens and # of corresponding labels match.\n",
        "print(\"Count of tokens in training set\\n\",\"No. of words: \",len(train_words),\"\\nNo. of labels: \",len(train_labels_by_word))\n",
        "print(\"\\n\\nCount of tokens in test set\\n\",\"No. of words: \",len(test_words),\"\\nNo. of labels: \",len(test_labels_by_word))"
      ],
      "metadata": {
        "colab": {
          "base_uri": "https://localhost:8080/"
        },
        "id": "OJlvrIgPjGdm",
        "outputId": "530256ce-96ca-42e2-f137-82d12882a213"
      },
      "execution_count": 12,
      "outputs": [
        {
          "output_type": "stream",
          "name": "stdout",
          "text": [
            "Count of tokens in training set\n",
            " No. of words:  48501 \n",
            "No. of labels:  48501\n",
            "\n",
            "\n",
            "Count of tokens in test set\n",
            " No. of words:  19674 \n",
            "No. of labels:  19674\n"
          ]
        }
      ]
    },
    {
      "cell_type": "code",
      "source": [
        "# Function to combine tokens belonging to the same sentence. Sentences are separated by \"\\n\" in the dataset.\n",
        "def convert_to_sentences(dataset):\n",
        "    sent_list = []\n",
        "    sent = \"\"\n",
        "    for entity in dataset:\n",
        "        if entity != '\\n':\n",
        "            sent = sent + entity[:-1] + \" \"       # Adding word/label to current sentence/sequence of labels \n",
        "        else: \n",
        "            sent_list.append(sent[:-1])           # Removing the space added after the last entity.\n",
        "            sent = \"\"\n",
        "    return sent_list"
      ],
      "metadata": {
        "id": "FmbGx2vUjhu3"
      },
      "execution_count": 13,
      "outputs": []
    },
    {
      "cell_type": "code",
      "source": [
        "# Converting tokens to sentences and individual labels to sequences of corresponding labels.\n",
        "train_sentences = convert_to_sentences(train_words)\n",
        "train_labels = convert_to_sentences(train_labels_by_word)\n",
        "test_sentences = convert_to_sentences(test_words)\n",
        "test_labels = convert_to_sentences(test_labels_by_word)\n",
        "\n",
        "print(\"First Six training sentences and their labels:\\n\")\n",
        "for i in range(6):\n",
        "    print(train_sentences[i],\"\\n\",train_labels[i],\"\\n\")"
      ],
      "metadata": {
        "colab": {
          "base_uri": "https://localhost:8080/"
        },
        "id": "a-BRkGC2jxlP",
        "outputId": "e7ab29b5-93eb-4e9c-af09-cd5c21548442"
      },
      "execution_count": 14,
      "outputs": [
        {
          "output_type": "stream",
          "name": "stdout",
          "text": [
            "First Six training sentences and their labels:\n",
            "\n",
            "All live births > or = 23 weeks at the University of Vermont in 1995 ( n = 2395 ) were retrospectively analyzed for delivery route , indication for cesarean , gestational age , parity , and practice group ( to reflect risk status ) \n",
            " O O O O O O O O O O O O O O O O O O O O O O O O O O O O O O O O O O O O O O O O O O O O O \n",
            "\n",
            "The total cesarean rate was 14.4 % ( 344 of 2395 ) , and the primary rate was 11.4 % ( 244 of 2144 ) \n",
            " O O O O O O O O O O O O O O O O O O O O O O O O O \n",
            "\n",
            "Abnormal presentation was the most common indication ( 25.6 % , 88 of 344 ) \n",
            " O O O O O O O O O O O O O O O \n",
            "\n",
            "The `` corrected '' cesarean rate ( maternal-fetal medicine and transported patients excluded ) was 12.4 % ( 273 of 2194 ) , and the `` corrected '' primary rate was 9.6 % ( 190 of 1975 ) \n",
            " O O O O O O O O O O O O O O O O O O O O O O O O O O O O O O O O O O O O O O \n",
            "\n",
            "Arrest of dilation was the most common indication in both `` corrected '' subgroups ( 23.4 and 24.6 % , respectively ) \n",
            " O O O O O O O O O O O O O O O O O O O O O O \n",
            "\n",
            "Cesarean rates at tertiary care hospitals should be compared with rates at community hospitals only after correcting for dissimilar patient groups or gestational age \n",
            " O O O O O O O O O O O O O O O O O O O O O O O O \n",
            "\n"
          ]
        }
      ]
    },
    {
      "cell_type": "code",
      "source": [
        "print(\"First Six test sentences and their labels:\\n\")\n",
        "for i in range(6):\n",
        "    print(test_sentences[i],\"\\n\",test_labels[i],\"\\n\")"
      ],
      "metadata": {
        "colab": {
          "base_uri": "https://localhost:8080/"
        },
        "id": "sq3a9impkAul",
        "outputId": "7ae61394-dc87-4770-c719-7fcda2ece911"
      },
      "execution_count": 15,
      "outputs": [
        {
          "output_type": "stream",
          "name": "stdout",
          "text": [
            "First Six test sentences and their labels:\n",
            "\n",
            "Furthermore , when all deliveries were analyzed , regardless of risk status but limited to gestational age > or = 36 weeks , the rates did not change ( 12.6 % , 280 of 2214 ; primary 9.2 % , 183 of 1994 ) \n",
            " O O O O O O O O O O O O O O O O O O O O O O O O O O O O O O O O O O O O O O O O O O O O \n",
            "\n",
            "As the ambient temperature increases , there is an increase in insensible fluid loss and the potential for dehydration \n",
            " O O O O O O O O O O O O O O O O O O O \n",
            "\n",
            "The daily high temperature ranged from 71 to 104 degrees F and AFI values ranged from 1.7 to 24.7 cm during the study period \n",
            " O O O O O O O O O O O O O O O O O O O O O O O O \n",
            "\n",
            "There was a significant correlation between the 2- , 3- , and 4-day mean temperature and AFI , with the 4-day mean being the most significant ( r = 0.31 , p & # 60 ; 0.001 ) \n",
            " O O O O O O O O O O O O O O O O O O O O O O O O O O O O O O O O O O O O O O \n",
            "\n",
            "Fluctuations in ambient temperature are inversely correlated to changes in AFI \n",
            " O O O O O O O O O O O \n",
            "\n",
            "This study tested the hypothesis that to reduce the rate of macrosomic infants in gestational diabetes cases , good glycemic control should be initiated before 34 completed gestational weeks \n",
            " O O O O O O O O O O O O O O O O O O O O O O O O O O O O O \n",
            "\n"
          ]
        }
      ]
    },
    {
      "cell_type": "code",
      "source": [
        "#Count the # of sentences in the processed train and test dataset.\n",
        "print(\"Number of sentences in the train dataset: {}\".format(len(train_sentences)))\n",
        "print(\"Number of sentences in the test dataset: {}\".format(len(test_sentences)))"
      ],
      "metadata": {
        "colab": {
          "base_uri": "https://localhost:8080/"
        },
        "id": "aCdVt-JPkMIi",
        "outputId": "e870ef61-43a3-465e-d629-7dd099703e0d"
      },
      "execution_count": 16,
      "outputs": [
        {
          "output_type": "stream",
          "name": "stdout",
          "text": [
            "Number of sentences in the train dataset: 2599\n",
            "Number of sentences in the test dataset: 1056\n"
          ]
        }
      ]
    },
    {
      "cell_type": "code",
      "source": [
        "# Count the # of labels in the processed train and test dataset.\n",
        "print(\"Number of labels in the train dataset: {}\".format(len(train_labels)))\n",
        "print(\"Number of labels in the test dataset: {}\".format(len(test_labels)))"
      ],
      "metadata": {
        "colab": {
          "base_uri": "https://localhost:8080/"
        },
        "id": "2xetsErVkVPn",
        "outputId": "677ecdd1-6e77-4e57-acf8-5a9e4413be13"
      },
      "execution_count": 17,
      "outputs": [
        {
          "output_type": "stream",
          "name": "stdout",
          "text": [
            "Number of labels in the train dataset: 2599\n",
            "Number of labels in the test dataset: 1056\n"
          ]
        }
      ]
    },
    {
      "cell_type": "markdown",
      "source": [
        "**Concept Identification**\n",
        "\n",
        "We will first explore what are the different concepts present in the dataset. For this, we will use PoS Tagging.\n",
        "\n",
        "Extract those tokens which have NOUN or PROPN as their PoS tag and find their frequency"
      ],
      "metadata": {
        "id": "2eHgFlptkic2"
      }
    },
    {
      "cell_type": "code",
      "source": [
        "# Create a merged dataset from training and test sentences, since this is an Exploratory analysis.\n",
        "combined = train_sentences + test_sentences\n",
        "print(\"Number of sentences in combined dataset (training + test): {}\".format(len(combined)))"
      ],
      "metadata": {
        "colab": {
          "base_uri": "https://localhost:8080/"
        },
        "id": "B6UD6t4Ik0LJ",
        "outputId": "e1ce2842-59db-4e4a-edeb-8baafca4da2d"
      },
      "execution_count": 18,
      "outputs": [
        {
          "output_type": "stream",
          "name": "stdout",
          "text": [
            "Number of sentences in combined dataset (training + test): 3655\n"
          ]
        }
      ]
    },
    {
      "cell_type": "code",
      "source": [
        "# Create a list of tokens which have PoS tag as 'NOUN' or 'PROPN'\n",
        "noun_propn = []         # Initiating list for nouns and proper nouns\n",
        "pos_tag = []            # Initiating list for corresponding PoS tags.\n",
        "for sent in combined:\n",
        "    for token in model(sent):\n",
        "        if token.pos_ in ['NOUN', 'PROPN']:\n",
        "           noun_propn.append(token.text)\n",
        "           pos_tag.append(token.pos_)\n",
        "print(\"No. of tokens in combined dataset with PoS tag as 'NOUN' or 'PROPN': {}\".format(len(noun_propn)))\n",
        "\n",
        "print(len(pos_tag))"
      ],
      "metadata": {
        "colab": {
          "base_uri": "https://localhost:8080/"
        },
        "id": "uKI3XXAalErV",
        "outputId": "c31f963f-254f-4a0b-e2c8-6a9ac66289c7"
      },
      "execution_count": 20,
      "outputs": [
        {
          "output_type": "stream",
          "name": "stdout",
          "text": [
            "No. of tokens in combined dataset with PoS tag as 'NOUN' or 'PROPN': 24340\n",
            "24340\n"
          ]
        }
      ]
    },
    {
      "cell_type": "code",
      "source": [
        "# Print the top 20 most common tokens with NOUN or PROPN PoS tags\n",
        "noun_pos = pd.DataFrame({\"NOUN_PROPN\":noun_propn,\"POS_tag\":pos_tag})\n",
        "print(\"Top 20 comon tokens with PoS tag as 'NOUN' or 'PROPN' \\n\")\n",
        "print(noun_pos[\"NOUN_PROPN\"].value_counts().head(20))"
      ],
      "metadata": {
        "colab": {
          "base_uri": "https://localhost:8080/"
        },
        "id": "V2XdlnbbluPJ",
        "outputId": "ce9ba8aa-4b59-4681-ea79-0c0723a57b4d"
      },
      "execution_count": 22,
      "outputs": [
        {
          "output_type": "stream",
          "name": "stdout",
          "text": [
            "Top 20 comon tokens with PoS tag as 'NOUN' or 'PROPN' \n",
            "\n",
            "patients        492\n",
            "treatment       281\n",
            "%               247\n",
            "cancer          200\n",
            "therapy         175\n",
            "study           154\n",
            "disease         142\n",
            "cell            140\n",
            "lung            116\n",
            "group            94\n",
            "chemotherapy     88\n",
            "gene             87\n",
            "effects          85\n",
            "women            77\n",
            "results          77\n",
            "use              75\n",
            "surgery          71\n",
            "risk             71\n",
            "cases            71\n",
            "analysis         70\n",
            "Name: NOUN_PROPN, dtype: int64\n"
          ]
        }
      ]
    },
    {
      "cell_type": "code",
      "source": [
        "# Defining features for CRF\n",
        "# Analysis of PoS tags - Independent assignment for words vs Contextual assignment in a sentence.\n",
        "sentence = train_sentences[1]   \n",
        "sent_list = sentence.split()      # Splitting the sentence into its constituent words.\n",
        "position = 2                      # Choosing position of word within sentence. Index starts at 0.\n",
        "\n",
        "word = sent_list[position]        # Extracting word for PoS tag analysis.\n",
        "\n",
        "print(sentence)\n",
        "\n",
        "# Independent assignment of PoS tag (No contextual info)\n",
        "print(\"\\nPoS tag of word in isolation\\nWord:\",word,\"--\",model(word)[0].pos_,\"\\n\")\n",
        "\n",
        "# Contextual assignment of PoS tag based on other words in the sentence.\n",
        "print(\"PoS tag of all words in sentence with context in tact.\")\n",
        "for token in model(sentence):\n",
        "    print(token.text, \"--\", token.pos_)\n",
        "\n",
        "# Modified workflow to obtain PoS tag of specific word in question while keeping sentence context in tact.\n",
        "print(\"\\nResult of modified workflow to obtain PoS tag of word at a specific position while keeping context within sentence in-tact.\")\n",
        "cnt = 0                           # Count of the word position within sentence.\n",
        "for token in model(sentence):\n",
        "      postag = token.pos_\n",
        "      if (token.text == word) and (cnt == position):\n",
        "          break\n",
        "      cnt += 1\n",
        "print(\"Word:\", word,\"POSTAG:\",postag)"
      ],
      "metadata": {
        "colab": {
          "base_uri": "https://localhost:8080/"
        },
        "id": "7t3NVxXBl8Jv",
        "outputId": "e5398a09-f20d-4786-f203-70e9a3521188"
      },
      "execution_count": 23,
      "outputs": [
        {
          "output_type": "stream",
          "name": "stdout",
          "text": [
            "The total cesarean rate was 14.4 % ( 344 of 2395 ) , and the primary rate was 11.4 % ( 244 of 2144 )\n",
            "\n",
            "PoS tag of word in isolation\n",
            "Word: cesarean -- PROPN \n",
            "\n",
            "PoS tag of all words in sentence with context in tact.\n",
            "The -- DET\n",
            "total -- ADJ\n",
            "cesarean -- ADJ\n",
            "rate -- NOUN\n",
            "was -- AUX\n",
            "14.4 -- NUM\n",
            "% -- NOUN\n",
            "( -- PUNCT\n",
            "344 -- NUM\n",
            "of -- ADP\n",
            "2395 -- NUM\n",
            ") -- PUNCT\n",
            ", -- PUNCT\n",
            "and -- CCONJ\n",
            "the -- DET\n",
            "primary -- ADJ\n",
            "rate -- NOUN\n",
            "was -- AUX\n",
            "11.4 -- NUM\n",
            "% -- NOUN\n",
            "( -- PUNCT\n",
            "244 -- NUM\n",
            "of -- ADP\n",
            "2144 -- NUM\n",
            ") -- PUNCT\n",
            "\n",
            "Result of modified workflow to obtain PoS tag of word at a specific position while keeping context within sentence in-tact.\n",
            "Word: cesarean POSTAG: ADJ\n"
          ]
        }
      ]
    },
    {
      "cell_type": "code",
      "source": [
        "# As per the above analysis, the PoS tag of the word \"cesarean\" is not captured correctly if the word is considered individually. \n",
        "# However, if the word is considered as part of the sentence, then it is captured correctly. Defining a function below to execute this.\n",
        "# Function to obtain contextual PoS tagger.\n",
        "def contextual_pos_tagger(sent_list,position):\n",
        "    '''Obtaining PoS tag for individual word with sentence context in-tact. \n",
        "       If the PoS tag is obtained for a word individually, it may not capture the context of use in the sentence and may assign the incorrect PoS tag.'''\n",
        "\n",
        "    sentence = \" \".join(sent_list)          # Sentence needs to be in string format to process it with spacy model. List of words won't work.\n",
        "    posit = 0                               # Initialising variable to record position of word in joined sentence to compare with the position of the word under considertion.\n",
        "    for token in model(sentence):\n",
        "        postag = token.pos_\n",
        "        if (token.text == word) and (posit == position):\n",
        "            break\n",
        "        posit += 1\n",
        "    return postag"
      ],
      "metadata": {
        "id": "rghEizVkmS5F"
      },
      "execution_count": 25,
      "outputs": []
    },
    {
      "cell_type": "code",
      "source": [
        "# Define the features to get the feature values for one word.\n",
        "def getFeaturesForOneWord(sent_list, position):\n",
        "  word = sent_list[position]\n",
        "    \n",
        "  # Obtaining features for current word\n",
        "  features = [\n",
        "    'word.lower=' + word.lower(),                                   # serves as word id\n",
        "    'word.postag=' + contextual_pos_tagger(sent_list, position),    # PoS tag of current word\n",
        "    'word[-3:]=' + word[-3:],                                       # last three characters\n",
        "    'word[-2:]=' + word[-2:],                                       # last two characters\n",
        "    'word.isupper=%s' % word.isupper(),                             # is the word in all uppercase\n",
        "    'word.isdigit=%s' % word.isdigit(),                             # is the word a number\n",
        "    'words.startsWithCapital=%s' % word[0].isupper()                # is the word starting with a capital letter\n",
        "  ]\n",
        " \n",
        "  if(position > 0):\n",
        "    prev_word = sent_list[position-1]\n",
        "    features.extend([\n",
        "    'prev_word.lower=' + prev_word.lower(),                               # previous word\n",
        "    'prev_word.postag=' + contextual_pos_tagger(sent_list, position - 1), # PoS tag of previous word\n",
        "    'prev_word.isupper=%s' % prev_word.isupper(),                         # is the previous word in all uppercase\n",
        "    'prev_word.isdigit=%s' % prev_word.isdigit(),                         # is the previous word a number\n",
        "    'prev_words.startsWithCapital=%s' % prev_word[0].isupper()            # is the previous word starting with a capital letter\n",
        "  ])\n",
        "  else:\n",
        "    features.append('BEG')                                                # feature to track begin of sentence \n",
        " \n",
        "  if(position == len(sent_list)-1):\n",
        "    features.append('END')                                                # feature to track end of sentence\n",
        " \n",
        "  return features"
      ],
      "metadata": {
        "id": "-CB4xi9_mvuq"
      },
      "execution_count": 26,
      "outputs": []
    },
    {
      "cell_type": "code",
      "source": [
        "# Getting the features\n",
        "# Write a code to get features for a sentence.\n",
        "def getFeaturesForOneSentence(sentence):\n",
        "  sentence_list = sentence.split()\n",
        "  return [getFeaturesForOneWord(sentence_list, position) for position in range(len(sentence_list))]"
      ],
      "metadata": {
        "id": "nDGGlnJcnB-L"
      },
      "execution_count": 27,
      "outputs": []
    },
    {
      "cell_type": "code",
      "source": [
        "# Checking feature extraction\n",
        "example_sentence = train_sentences[5]\n",
        "print(example_sentence)\n",
        "\n",
        "features = getFeaturesForOneSentence(example_sentence)\n",
        "features[0]"
      ],
      "metadata": {
        "colab": {
          "base_uri": "https://localhost:8080/"
        },
        "id": "ZHYorfPWnIZe",
        "outputId": "3a90fd3c-5dcf-4ed6-e468-5a30f53639cf"
      },
      "execution_count": 28,
      "outputs": [
        {
          "output_type": "stream",
          "name": "stdout",
          "text": [
            "Cesarean rates at tertiary care hospitals should be compared with rates at community hospitals only after correcting for dissimilar patient groups or gestational age\n"
          ]
        },
        {
          "output_type": "execute_result",
          "data": {
            "text/plain": [
              "['word.lower=cesarean',\n",
              " 'word.postag=NOUN',\n",
              " 'word[-3:]=ean',\n",
              " 'word[-2:]=an',\n",
              " 'word.isupper=False',\n",
              " 'word.isdigit=False',\n",
              " 'words.startsWithCapital=True',\n",
              " 'BEG']"
            ]
          },
          "metadata": {},
          "execution_count": 28
        }
      ]
    },
    {
      "cell_type": "code",
      "source": [
        "features[4]"
      ],
      "metadata": {
        "colab": {
          "base_uri": "https://localhost:8080/"
        },
        "id": "ww3Tw7bXnNtY",
        "outputId": "62510d60-611f-49cb-db92-d107e557ba97"
      },
      "execution_count": 30,
      "outputs": [
        {
          "output_type": "execute_result",
          "data": {
            "text/plain": [
              "['word.lower=care',\n",
              " 'word.postag=NOUN',\n",
              " 'word[-3:]=are',\n",
              " 'word[-2:]=re',\n",
              " 'word.isupper=False',\n",
              " 'word.isdigit=False',\n",
              " 'words.startsWithCapital=False',\n",
              " 'prev_word.lower=tertiary',\n",
              " 'prev_word.postag=NOUN',\n",
              " 'prev_word.isupper=False',\n",
              " 'prev_word.isdigit=False',\n",
              " 'prev_words.startsWithCapital=False']"
            ]
          },
          "metadata": {},
          "execution_count": 30
        }
      ]
    },
    {
      "cell_type": "code",
      "source": [
        "# Write a code to get the labels for a sentence.\n",
        "def getLabelsInListForOneSentence(labels):\n",
        "  return labels.split()\n",
        "  \n",
        "# Checking label extraction\n",
        "example_labels = getLabelsInListForOneSentence(train_labels[5])\n",
        "print(example_labels)"
      ],
      "metadata": {
        "colab": {
          "base_uri": "https://localhost:8080/"
        },
        "id": "1IsBz84znY6x",
        "outputId": "25d20c6c-32d2-4929-a9f7-5abaf116532e"
      },
      "execution_count": 31,
      "outputs": [
        {
          "output_type": "stream",
          "name": "stdout",
          "text": [
            "['O', 'O', 'O', 'O', 'O', 'O', 'O', 'O', 'O', 'O', 'O', 'O', 'O', 'O', 'O', 'O', 'O', 'O', 'O', 'O', 'O', 'O', 'O', 'O']\n"
          ]
        }
      ]
    },
    {
      "cell_type": "code",
      "source": [
        "# Define source and target variables\n",
        "# Correctly computing X and Y sequence matrices for training and test data. Check that both sentences and labels are processed\n",
        "\n",
        "# Define the features values for each sentence as source variable for CRF model in test and the train dataset\n",
        "X_train = [getFeaturesForOneSentence(sentence) for sentence in train_sentences]\n",
        "X_test = [getFeaturesForOneSentence(sentence) for sentence in test_sentences]\n",
        "\n",
        "# Define the labels as the target variable for test and the train dataset\n",
        "Y_train = [getLabelsInListForOneSentence(labels) for labels in train_labels]\n",
        "Y_test = [getLabelsInListForOneSentence(labels) for labels in test_labels]"
      ],
      "metadata": {
        "id": "rV_wwoijnhXz"
      },
      "execution_count": 37,
      "outputs": []
    },
    {
      "cell_type": "code",
      "source": [
        "# Building the CRF model. Using max_iterations as 200.\n",
        "%%time\n",
        "\n",
        "crf = sklearn_crfsuite.CRF(\n",
        "    algorithm='lbfgs',\n",
        "    c1=0.1,\n",
        "    c2=0.1,\n",
        "    max_iterations=200,\n",
        "    all_possible_transitions=True\n",
        ")\n",
        "try:\n",
        "    crf.fit(X_train, Y_train)\n",
        "except AttributeError:\n",
        "    pass"
      ],
      "metadata": {
        "colab": {
          "base_uri": "https://localhost:8080/"
        },
        "id": "b5hIUw2en7QW",
        "outputId": "9147c019-e157-41e4-91d0-a71f42ead39e"
      },
      "execution_count": 41,
      "outputs": [
        {
          "output_type": "stream",
          "name": "stdout",
          "text": [
            "CPU times: user 5.55 s, sys: 21 ms, total: 5.58 s\n",
            "Wall time: 5.58 s\n"
          ]
        }
      ]
    },
    {
      "cell_type": "markdown",
      "source": [
        "**Evaluation**\n",
        "\n",
        "Predict the labels of each of the tokens in each sentence from the test dataset that has been pre processed earlier."
      ],
      "metadata": {
        "id": "KfUFWonU07Pd"
      }
    },
    {
      "cell_type": "code",
      "source": [
        "Y_pred = crf.predict(X_test)"
      ],
      "metadata": {
        "id": "tjo7AH0H1IdH"
      },
      "execution_count": 42,
      "outputs": []
    },
    {
      "cell_type": "code",
      "source": [
        "# Calculate the f1 score using the actual labels and the predicted labels of the test dataset.\n",
        "metrics.flat_f1_score(Y_test, Y_pred, average='weighted')"
      ],
      "metadata": {
        "colab": {
          "base_uri": "https://localhost:8080/"
        },
        "id": "-_moGYx41MXn",
        "outputId": "587031b1-20e3-4f0a-f769-66d35bb3cb44"
      },
      "execution_count": 43,
      "outputs": [
        {
          "output_type": "execute_result",
          "data": {
            "text/plain": [
              "0.9176590528721192"
            ]
          },
          "metadata": {},
          "execution_count": 43
        }
      ]
    },
    {
      "cell_type": "markdown",
      "source": [
        "An F1 Score of more than 91% is good. We shall proceed with this CRF model."
      ],
      "metadata": {
        "id": "0uGKJhad1TvO"
      }
    },
    {
      "cell_type": "code",
      "source": [
        "# Example test sentence and corresponding actual and predicted labels \n",
        "print(\"Sentence: \",test_sentences[15])\n",
        "print(\"Actual labels:    \", Y_test[15])\n",
        "print(\"Predicted labels: \", Y_pred[15])"
      ],
      "metadata": {
        "colab": {
          "base_uri": "https://localhost:8080/"
        },
        "id": "fYq2MSBh1fFU",
        "outputId": "f8b6de04-1c87-4088-e68d-92c3c27b7a9b"
      },
      "execution_count": 45,
      "outputs": [
        {
          "output_type": "stream",
          "name": "stdout",
          "text": [
            "Sentence:  The rate of severe preeclampsia was increased significantly in the triplet group 12 of 53 ( 22.6 % ) as compared with the twin group 3 of 53 ( 5.7 % ) ( OR = 4.9 , 95 % CI 1.2-23.5 , p = 0.02 )\n",
            "Actual labels:     ['O', 'O', 'O', 'O', 'D', 'O', 'O', 'O', 'O', 'O', 'O', 'O', 'O', 'O', 'O', 'O', 'O', 'O', 'O', 'O', 'O', 'O', 'O', 'O', 'O', 'O', 'O', 'O', 'O', 'O', 'O', 'O', 'O', 'O', 'O', 'O', 'O', 'O', 'O', 'O', 'O', 'O', 'O', 'O', 'O', 'O']\n",
            "Predicted labels:  ['O', 'O', 'O', 'D', 'D', 'O', 'O', 'O', 'O', 'O', 'O', 'O', 'O', 'O', 'O', 'O', 'O', 'O', 'O', 'O', 'O', 'O', 'O', 'O', 'O', 'O', 'O', 'O', 'O', 'O', 'O', 'O', 'O', 'O', 'O', 'O', 'O', 'O', 'O', 'O', 'O', 'O', 'O', 'O', 'O', 'O']\n"
          ]
        }
      ]
    },
    {
      "cell_type": "code",
      "source": [
        "# Feature list of sentence above\n",
        "print(X_test[15])"
      ],
      "metadata": {
        "colab": {
          "base_uri": "https://localhost:8080/"
        },
        "id": "cTrZpasJ1zS5",
        "outputId": "ad7624f3-19a0-42e1-8759-dd56e9567623"
      },
      "execution_count": 46,
      "outputs": [
        {
          "output_type": "stream",
          "name": "stdout",
          "text": [
            "[['word.lower=the', 'word.postag=PUNCT', 'word[-3:]=The', 'word[-2:]=he', 'word.isupper=False', 'word.isdigit=False', 'words.startsWithCapital=True', 'BEG'], ['word.lower=rate', 'word.postag=PUNCT', 'word[-3:]=ate', 'word[-2:]=te', 'word.isupper=False', 'word.isdigit=False', 'words.startsWithCapital=False', 'prev_word.lower=the', 'prev_word.postag=PUNCT', 'prev_word.isupper=False', 'prev_word.isdigit=False', 'prev_words.startsWithCapital=True'], ['word.lower=of', 'word.postag=PUNCT', 'word[-3:]=of', 'word[-2:]=of', 'word.isupper=False', 'word.isdigit=False', 'words.startsWithCapital=False', 'prev_word.lower=rate', 'prev_word.postag=PUNCT', 'prev_word.isupper=False', 'prev_word.isdigit=False', 'prev_words.startsWithCapital=False'], ['word.lower=severe', 'word.postag=PUNCT', 'word[-3:]=ere', 'word[-2:]=re', 'word.isupper=False', 'word.isdigit=False', 'words.startsWithCapital=False', 'prev_word.lower=of', 'prev_word.postag=PUNCT', 'prev_word.isupper=False', 'prev_word.isdigit=False', 'prev_words.startsWithCapital=False'], ['word.lower=preeclampsia', 'word.postag=PUNCT', 'word[-3:]=sia', 'word[-2:]=ia', 'word.isupper=False', 'word.isdigit=False', 'words.startsWithCapital=False', 'prev_word.lower=severe', 'prev_word.postag=PUNCT', 'prev_word.isupper=False', 'prev_word.isdigit=False', 'prev_words.startsWithCapital=False'], ['word.lower=was', 'word.postag=PUNCT', 'word[-3:]=was', 'word[-2:]=as', 'word.isupper=False', 'word.isdigit=False', 'words.startsWithCapital=False', 'prev_word.lower=preeclampsia', 'prev_word.postag=PUNCT', 'prev_word.isupper=False', 'prev_word.isdigit=False', 'prev_words.startsWithCapital=False'], ['word.lower=increased', 'word.postag=PUNCT', 'word[-3:]=sed', 'word[-2:]=ed', 'word.isupper=False', 'word.isdigit=False', 'words.startsWithCapital=False', 'prev_word.lower=was', 'prev_word.postag=PUNCT', 'prev_word.isupper=False', 'prev_word.isdigit=False', 'prev_words.startsWithCapital=False'], ['word.lower=significantly', 'word.postag=PUNCT', 'word[-3:]=tly', 'word[-2:]=ly', 'word.isupper=False', 'word.isdigit=False', 'words.startsWithCapital=False', 'prev_word.lower=increased', 'prev_word.postag=PUNCT', 'prev_word.isupper=False', 'prev_word.isdigit=False', 'prev_words.startsWithCapital=False'], ['word.lower=in', 'word.postag=PUNCT', 'word[-3:]=in', 'word[-2:]=in', 'word.isupper=False', 'word.isdigit=False', 'words.startsWithCapital=False', 'prev_word.lower=significantly', 'prev_word.postag=PUNCT', 'prev_word.isupper=False', 'prev_word.isdigit=False', 'prev_words.startsWithCapital=False'], ['word.lower=the', 'word.postag=PUNCT', 'word[-3:]=the', 'word[-2:]=he', 'word.isupper=False', 'word.isdigit=False', 'words.startsWithCapital=False', 'prev_word.lower=in', 'prev_word.postag=PUNCT', 'prev_word.isupper=False', 'prev_word.isdigit=False', 'prev_words.startsWithCapital=False'], ['word.lower=triplet', 'word.postag=PUNCT', 'word[-3:]=let', 'word[-2:]=et', 'word.isupper=False', 'word.isdigit=False', 'words.startsWithCapital=False', 'prev_word.lower=the', 'prev_word.postag=PUNCT', 'prev_word.isupper=False', 'prev_word.isdigit=False', 'prev_words.startsWithCapital=False'], ['word.lower=group', 'word.postag=PUNCT', 'word[-3:]=oup', 'word[-2:]=up', 'word.isupper=False', 'word.isdigit=False', 'words.startsWithCapital=False', 'prev_word.lower=triplet', 'prev_word.postag=PUNCT', 'prev_word.isupper=False', 'prev_word.isdigit=False', 'prev_words.startsWithCapital=False'], ['word.lower=12', 'word.postag=PUNCT', 'word[-3:]=12', 'word[-2:]=12', 'word.isupper=False', 'word.isdigit=True', 'words.startsWithCapital=False', 'prev_word.lower=group', 'prev_word.postag=PUNCT', 'prev_word.isupper=False', 'prev_word.isdigit=False', 'prev_words.startsWithCapital=False'], ['word.lower=of', 'word.postag=PUNCT', 'word[-3:]=of', 'word[-2:]=of', 'word.isupper=False', 'word.isdigit=False', 'words.startsWithCapital=False', 'prev_word.lower=12', 'prev_word.postag=PUNCT', 'prev_word.isupper=False', 'prev_word.isdigit=True', 'prev_words.startsWithCapital=False'], ['word.lower=53', 'word.postag=PUNCT', 'word[-3:]=53', 'word[-2:]=53', 'word.isupper=False', 'word.isdigit=True', 'words.startsWithCapital=False', 'prev_word.lower=of', 'prev_word.postag=PUNCT', 'prev_word.isupper=False', 'prev_word.isdigit=False', 'prev_words.startsWithCapital=False'], ['word.lower=(', 'word.postag=PUNCT', 'word[-3:]=(', 'word[-2:]=(', 'word.isupper=False', 'word.isdigit=False', 'words.startsWithCapital=False', 'prev_word.lower=53', 'prev_word.postag=PUNCT', 'prev_word.isupper=False', 'prev_word.isdigit=True', 'prev_words.startsWithCapital=False'], ['word.lower=22.6', 'word.postag=PUNCT', 'word[-3:]=2.6', 'word[-2:]=.6', 'word.isupper=False', 'word.isdigit=False', 'words.startsWithCapital=False', 'prev_word.lower=(', 'prev_word.postag=PUNCT', 'prev_word.isupper=False', 'prev_word.isdigit=False', 'prev_words.startsWithCapital=False'], ['word.lower=%', 'word.postag=PUNCT', 'word[-3:]=%', 'word[-2:]=%', 'word.isupper=False', 'word.isdigit=False', 'words.startsWithCapital=False', 'prev_word.lower=22.6', 'prev_word.postag=PUNCT', 'prev_word.isupper=False', 'prev_word.isdigit=False', 'prev_words.startsWithCapital=False'], ['word.lower=)', 'word.postag=PUNCT', 'word[-3:]=)', 'word[-2:]=)', 'word.isupper=False', 'word.isdigit=False', 'words.startsWithCapital=False', 'prev_word.lower=%', 'prev_word.postag=PUNCT', 'prev_word.isupper=False', 'prev_word.isdigit=False', 'prev_words.startsWithCapital=False'], ['word.lower=as', 'word.postag=PUNCT', 'word[-3:]=as', 'word[-2:]=as', 'word.isupper=False', 'word.isdigit=False', 'words.startsWithCapital=False', 'prev_word.lower=)', 'prev_word.postag=PUNCT', 'prev_word.isupper=False', 'prev_word.isdigit=False', 'prev_words.startsWithCapital=False'], ['word.lower=compared', 'word.postag=PUNCT', 'word[-3:]=red', 'word[-2:]=ed', 'word.isupper=False', 'word.isdigit=False', 'words.startsWithCapital=False', 'prev_word.lower=as', 'prev_word.postag=PUNCT', 'prev_word.isupper=False', 'prev_word.isdigit=False', 'prev_words.startsWithCapital=False'], ['word.lower=with', 'word.postag=PUNCT', 'word[-3:]=ith', 'word[-2:]=th', 'word.isupper=False', 'word.isdigit=False', 'words.startsWithCapital=False', 'prev_word.lower=compared', 'prev_word.postag=PUNCT', 'prev_word.isupper=False', 'prev_word.isdigit=False', 'prev_words.startsWithCapital=False'], ['word.lower=the', 'word.postag=PUNCT', 'word[-3:]=the', 'word[-2:]=he', 'word.isupper=False', 'word.isdigit=False', 'words.startsWithCapital=False', 'prev_word.lower=with', 'prev_word.postag=PUNCT', 'prev_word.isupper=False', 'prev_word.isdigit=False', 'prev_words.startsWithCapital=False'], ['word.lower=twin', 'word.postag=PUNCT', 'word[-3:]=win', 'word[-2:]=in', 'word.isupper=False', 'word.isdigit=False', 'words.startsWithCapital=False', 'prev_word.lower=the', 'prev_word.postag=PUNCT', 'prev_word.isupper=False', 'prev_word.isdigit=False', 'prev_words.startsWithCapital=False'], ['word.lower=group', 'word.postag=PUNCT', 'word[-3:]=oup', 'word[-2:]=up', 'word.isupper=False', 'word.isdigit=False', 'words.startsWithCapital=False', 'prev_word.lower=twin', 'prev_word.postag=PUNCT', 'prev_word.isupper=False', 'prev_word.isdigit=False', 'prev_words.startsWithCapital=False'], ['word.lower=3', 'word.postag=PUNCT', 'word[-3:]=3', 'word[-2:]=3', 'word.isupper=False', 'word.isdigit=True', 'words.startsWithCapital=False', 'prev_word.lower=group', 'prev_word.postag=PUNCT', 'prev_word.isupper=False', 'prev_word.isdigit=False', 'prev_words.startsWithCapital=False'], ['word.lower=of', 'word.postag=PUNCT', 'word[-3:]=of', 'word[-2:]=of', 'word.isupper=False', 'word.isdigit=False', 'words.startsWithCapital=False', 'prev_word.lower=3', 'prev_word.postag=PUNCT', 'prev_word.isupper=False', 'prev_word.isdigit=True', 'prev_words.startsWithCapital=False'], ['word.lower=53', 'word.postag=PUNCT', 'word[-3:]=53', 'word[-2:]=53', 'word.isupper=False', 'word.isdigit=True', 'words.startsWithCapital=False', 'prev_word.lower=of', 'prev_word.postag=PUNCT', 'prev_word.isupper=False', 'prev_word.isdigit=False', 'prev_words.startsWithCapital=False'], ['word.lower=(', 'word.postag=PUNCT', 'word[-3:]=(', 'word[-2:]=(', 'word.isupper=False', 'word.isdigit=False', 'words.startsWithCapital=False', 'prev_word.lower=53', 'prev_word.postag=PUNCT', 'prev_word.isupper=False', 'prev_word.isdigit=True', 'prev_words.startsWithCapital=False'], ['word.lower=5.7', 'word.postag=PUNCT', 'word[-3:]=5.7', 'word[-2:]=.7', 'word.isupper=False', 'word.isdigit=False', 'words.startsWithCapital=False', 'prev_word.lower=(', 'prev_word.postag=PUNCT', 'prev_word.isupper=False', 'prev_word.isdigit=False', 'prev_words.startsWithCapital=False'], ['word.lower=%', 'word.postag=PUNCT', 'word[-3:]=%', 'word[-2:]=%', 'word.isupper=False', 'word.isdigit=False', 'words.startsWithCapital=False', 'prev_word.lower=5.7', 'prev_word.postag=PUNCT', 'prev_word.isupper=False', 'prev_word.isdigit=False', 'prev_words.startsWithCapital=False'], ['word.lower=)', 'word.postag=PUNCT', 'word[-3:]=)', 'word[-2:]=)', 'word.isupper=False', 'word.isdigit=False', 'words.startsWithCapital=False', 'prev_word.lower=%', 'prev_word.postag=PUNCT', 'prev_word.isupper=False', 'prev_word.isdigit=False', 'prev_words.startsWithCapital=False'], ['word.lower=(', 'word.postag=PUNCT', 'word[-3:]=(', 'word[-2:]=(', 'word.isupper=False', 'word.isdigit=False', 'words.startsWithCapital=False', 'prev_word.lower=)', 'prev_word.postag=PUNCT', 'prev_word.isupper=False', 'prev_word.isdigit=False', 'prev_words.startsWithCapital=False'], ['word.lower=or', 'word.postag=PUNCT', 'word[-3:]=OR', 'word[-2:]=OR', 'word.isupper=True', 'word.isdigit=False', 'words.startsWithCapital=True', 'prev_word.lower=(', 'prev_word.postag=PUNCT', 'prev_word.isupper=False', 'prev_word.isdigit=False', 'prev_words.startsWithCapital=False'], ['word.lower==', 'word.postag=PUNCT', 'word[-3:]==', 'word[-2:]==', 'word.isupper=False', 'word.isdigit=False', 'words.startsWithCapital=False', 'prev_word.lower=or', 'prev_word.postag=PUNCT', 'prev_word.isupper=True', 'prev_word.isdigit=False', 'prev_words.startsWithCapital=True'], ['word.lower=4.9', 'word.postag=PUNCT', 'word[-3:]=4.9', 'word[-2:]=.9', 'word.isupper=False', 'word.isdigit=False', 'words.startsWithCapital=False', 'prev_word.lower==', 'prev_word.postag=PUNCT', 'prev_word.isupper=False', 'prev_word.isdigit=False', 'prev_words.startsWithCapital=False'], ['word.lower=,', 'word.postag=PUNCT', 'word[-3:]=,', 'word[-2:]=,', 'word.isupper=False', 'word.isdigit=False', 'words.startsWithCapital=False', 'prev_word.lower=4.9', 'prev_word.postag=PUNCT', 'prev_word.isupper=False', 'prev_word.isdigit=False', 'prev_words.startsWithCapital=False'], ['word.lower=95', 'word.postag=PUNCT', 'word[-3:]=95', 'word[-2:]=95', 'word.isupper=False', 'word.isdigit=True', 'words.startsWithCapital=False', 'prev_word.lower=,', 'prev_word.postag=PUNCT', 'prev_word.isupper=False', 'prev_word.isdigit=False', 'prev_words.startsWithCapital=False'], ['word.lower=%', 'word.postag=PUNCT', 'word[-3:]=%', 'word[-2:]=%', 'word.isupper=False', 'word.isdigit=False', 'words.startsWithCapital=False', 'prev_word.lower=95', 'prev_word.postag=PUNCT', 'prev_word.isupper=False', 'prev_word.isdigit=True', 'prev_words.startsWithCapital=False'], ['word.lower=ci', 'word.postag=PUNCT', 'word[-3:]=CI', 'word[-2:]=CI', 'word.isupper=True', 'word.isdigit=False', 'words.startsWithCapital=True', 'prev_word.lower=%', 'prev_word.postag=PUNCT', 'prev_word.isupper=False', 'prev_word.isdigit=False', 'prev_words.startsWithCapital=False'], ['word.lower=1.2-23.5', 'word.postag=PUNCT', 'word[-3:]=3.5', 'word[-2:]=.5', 'word.isupper=False', 'word.isdigit=False', 'words.startsWithCapital=False', 'prev_word.lower=ci', 'prev_word.postag=PUNCT', 'prev_word.isupper=True', 'prev_word.isdigit=False', 'prev_words.startsWithCapital=True'], ['word.lower=,', 'word.postag=PUNCT', 'word[-3:]=,', 'word[-2:]=,', 'word.isupper=False', 'word.isdigit=False', 'words.startsWithCapital=False', 'prev_word.lower=1.2-23.5', 'prev_word.postag=PUNCT', 'prev_word.isupper=False', 'prev_word.isdigit=False', 'prev_words.startsWithCapital=False'], ['word.lower=p', 'word.postag=PUNCT', 'word[-3:]=p', 'word[-2:]=p', 'word.isupper=False', 'word.isdigit=False', 'words.startsWithCapital=False', 'prev_word.lower=,', 'prev_word.postag=PUNCT', 'prev_word.isupper=False', 'prev_word.isdigit=False', 'prev_words.startsWithCapital=False'], ['word.lower==', 'word.postag=PUNCT', 'word[-3:]==', 'word[-2:]==', 'word.isupper=False', 'word.isdigit=False', 'words.startsWithCapital=False', 'prev_word.lower=p', 'prev_word.postag=PUNCT', 'prev_word.isupper=False', 'prev_word.isdigit=False', 'prev_words.startsWithCapital=False'], ['word.lower=0.02', 'word.postag=PUNCT', 'word[-3:]=.02', 'word[-2:]=02', 'word.isupper=False', 'word.isdigit=False', 'words.startsWithCapital=False', 'prev_word.lower==', 'prev_word.postag=PUNCT', 'prev_word.isupper=False', 'prev_word.isdigit=False', 'prev_words.startsWithCapital=False'], ['word.lower=)', 'word.postag=PUNCT', 'word[-3:]=)', 'word[-2:]=)', 'word.isupper=False', 'word.isdigit=False', 'words.startsWithCapital=False', 'prev_word.lower=0.02', 'prev_word.postag=PUNCT', 'prev_word.isupper=False', 'prev_word.isdigit=False', 'prev_words.startsWithCapital=False', 'END']]\n"
          ]
        }
      ]
    },
    {
      "cell_type": "markdown",
      "source": [
        "**Identifying Diseases and Treatments using Custom NER**\n",
        "\n",
        "We now use the CRF models prediction to prepare a record of diseases identified in the corpus and treatments used for those diseases.\n",
        "\n",
        "Create the logic to get all the predicted treatments (T) labels corresponding to each disease (D) label in the test dataset."
      ],
      "metadata": {
        "id": "KMMjYYDp17kt"
      }
    },
    {
      "cell_type": "code",
      "source": [
        "# Extracting a dictionary of all the predicted diseases from our test data and the corresponding treatments.\n",
        "# Assumption: For each identified disease, one of the treatments is in the same sentence as the disease exists.\n",
        "disease_treatment = {}            # Initializing an empty dictionary\n",
        "for i in range(len(Y_pred)):\n",
        "    cnt_disease = 0           # Count of number of diseases mentioned in the sentence\n",
        "    cnt_treatment = 0         # Count of the number of treatments mentioned in the sentence\n",
        "    diseases = [\"\"]           # Initializing a blank list of diseases for current sentence.\n",
        "    treatment = [\"\"]          # Initializing a blank list of treatments for current sentence.\n",
        "    length = len(Y_pred[i])   # Length of current sentence.\n",
        "    for j in range(length):\n",
        "        if (Y_pred[i][j] == 'D'):                                                     # Checking for label indicating disease for current word ('D')\n",
        "            diseases[cnt_disease] += (X_test[i][j][0].split('=')[1] + \" \")            # Adding word to diseases list.\n",
        "            if j < length - 1:\n",
        "                if (Y_pred[i][j+1] != 'D'):                                           # Check for name of disease extending over multiple words. \n",
        "                    # If next word does not have label 'D', then truncate the space added at the end of the last word.\n",
        "                    diseases[cnt_disease] = diseases[cnt_disease][:-1]\n",
        "                    cnt_disease += 1\n",
        "                    diseases.append(\"\")                                               # Adding a placeholder for the next disease in the current sentence.\n",
        "            else:\n",
        "                diseases[cnt_disease] = diseases[cnt_disease][:-1]\n",
        "                cnt_disease += 1\n",
        "                diseases.append(\"\")\n",
        "                            \n",
        "        if (Y_pred[i][j] == 'T'):                                                     # Checking for label indicating treatment for current word ('T')\n",
        "            treatment[cnt_treatment] += (X_test[i][j][0].split('=')[1] + \" \") # Adding word to corresponding treatment list.\n",
        "            if j < length - 1:\n",
        "                if (Y_pred[i][j+1] != 'T'):                                           # Check for name of treatment extending over multiple words. \n",
        "                    # If next word does not have label 'T', then truncate the space added at the end of the last word.\n",
        "                    treatment[cnt_treatment] = treatment[cnt_treatment][:-1]\n",
        "                    cnt_treatment += 1\n",
        "                    treatment.append(\"\")                                              # Adding a placeholder for the next treatment in the current sentence.\n",
        "            else:\n",
        "                treatment[cnt_treatment] = treatment[cnt_treatment][:-1]\n",
        "                cnt_treatment += 1\n",
        "                treatment.append(\"\")\n",
        "\n",
        "    diseases.pop(-1)    # Getting rid of the last empty placeholder in diseases list\n",
        "    treatment.pop(-1)   # Getting rid of the last empty placeholder in treatments list\n",
        "\n",
        "    # To our dictionary, add or append treatments to the diseases identified from the current sentence, if any.\n",
        "    if len(diseases) > 0:       # Checking if any diseases have been identified for the current sentence.\n",
        "        for disease in diseases:\n",
        "            if disease in disease_treatment.keys():\n",
        "                # Extend treatment list if other treatments for the particular disease already exist\n",
        "                disease_treatment[disease].extend(treatment)\n",
        "            else:\n",
        "                # Creating list of treatments for particular disease if it doesn not exist already.\n",
        "                disease_treatment[disease] = treatment\n",
        "                \n",
        "# Displaying dictionary of extracted diseases and potential treatments.\n",
        "disease_treatment"
      ],
      "metadata": {
        "colab": {
          "base_uri": "https://localhost:8080/"
        },
        "id": "nz9mmklt2J4c",
        "outputId": "7b7dd999-aed2-4a85-e3a4-7ae877e451de"
      },
      "execution_count": 47,
      "outputs": [
        {
          "output_type": "execute_result",
          "data": {
            "text/plain": [
              "{'macrosomic infants in gestational diabetes cases': ['good glycemic control'],\n",
              " 'nonimmune hydrops fetalis': ['trisomy'],\n",
              " 'preeclampsia': ['insemination program'],\n",
              " 'severe preeclampsia': [],\n",
              " 'asymmetric double hemiplegia': [],\n",
              " 'a subchorial placental hematoma': [],\n",
              " 'reversible nonimmune hydrops fetalis': [],\n",
              " 'cancer': ['radiotherapy',\n",
              "  'organ transplantation and chemotherapy',\n",
              "  'chemotherapy',\n",
              "  'matrix metalloproteinase inhibitors'],\n",
              " 'breast cancer': ['hormone replacement therapy',\n",
              "  'oxaliplatin',\n",
              "  'vaccination',\n",
              "  'undergone subcutaneous mastectomy'],\n",
              " 'ovarian cancer': ['hormone replacement therapy',\n",
              "  'oxaliplatin',\n",
              "  'vaccination',\n",
              "  'undergone subcutaneous mastectomy'],\n",
              " 'prostate cancer': ['radical prostatectomy and iodine 125 interstitial radiotherapy'],\n",
              " 'prostate cancers': [],\n",
              " 'hereditary prostate cancer': [],\n",
              " 'multiple sclerosis ( ms )': [],\n",
              " 'hereditary retinoblastoma': ['radiotherapy'],\n",
              " 'pericardial effusions': [],\n",
              " 'epilepsy': ['methylphenidate', 'methylphenidate'],\n",
              " 'adhd': ['methylphenidate', 'methylphenidate'],\n",
              " 'unstable angina or non-q-wave myocardial infarction': ['roxithromycin'],\n",
              " 'coronary-artery disease': ['antichlamydial antibiotics'],\n",
              " 'early-stage cervical carcinoma': [],\n",
              " 'colon tumors': [],\n",
              " 'advanced disease': [],\n",
              " 'cerebral palsy': ['hyperbaric oxygen therapy'],\n",
              " 'pressure pain threshold': [],\n",
              " 'severe pain': [],\n",
              " 'myofascial trigger point pain': [],\n",
              " 'confirmed infection': [],\n",
              " 'infections': [],\n",
              " 'primary pulmonary hypertension ( pph )': ['fenfluramines'],\n",
              " 'essential hypertension': ['moxonidine'],\n",
              " 'curtis': [],\n",
              " 'foot infections': [],\n",
              " 'cellulitis': ['g-csf therapy', 'intravenous antibiotic treatment'],\n",
              " 'foot infection': ['g-csf treatment'],\n",
              " 'stroke': ['double-bolus alteplase', 'alteplase', 'antiplatelet therapy'],\n",
              " 'hemorrhagic stroke': ['double-bolus alteplase',\n",
              "  'alteplase',\n",
              "  'antiplatelet therapy'],\n",
              " 'intracranial hemorrhage': [],\n",
              " 'cardiac disease': ['fenfluramine-phentermine'],\n",
              " 'intact valve architecture': [],\n",
              " 'rheumatoid arthritis': ['arthrodesis'],\n",
              " 'stroke victims': [],\n",
              " \"parkinson 's disease\": ['microelectrode-guided posteroventral pallidotomy'],\n",
              " \"early parkinson 's disease\": ['ropinirole monotherapy'],\n",
              " 'sore throat': ['antibiotics', 'antibiotics'],\n",
              " 'upper respiratory conditions': [],\n",
              " 'postoperative pain relief': [],\n",
              " 'satisfactory analgesia': [],\n",
              " 'analgesia': [],\n",
              " 'analgesia when equianalgesic doses': [],\n",
              " 'chronic neutropenia': [],\n",
              " 'abdominal tuberculosis': ['steroids'],\n",
              " \"crohn 's disease\": ['steroids'],\n",
              " 'female stress urinary incontinence': ['surgical treatment'],\n",
              " 'stress urinary incontinence': [],\n",
              " 'corpal gastritis': [],\n",
              " 'preeclampsia ( proteinuric hypertension': ['intrauterine insemination with donor sperm versus intrauterine insemination'],\n",
              " 'mild preeclampsia': ['insemination program'],\n",
              " 'nuclear genoma': [],\n",
              " 'cloacal anomalies': [],\n",
              " 'myocardial amyloidosis': [],\n",
              " 'heart failure': [],\n",
              " 'amyloidosis': [],\n",
              " 'cardiac amyloid heart disease': [],\n",
              " 'retinopathy': [],\n",
              " 'intra-abdominal injury': [],\n",
              " 'tangential gunshot wounds': [],\n",
              " 'intra-abdominal hemorrhage': [],\n",
              " 'severe acquired hyperammonemia': ['organ transplantation and chemotherapy'],\n",
              " 'major pulmonary embolism': ['thrombolytic treatment'],\n",
              " 'congestive heart failure': [],\n",
              " 'chronic pulmonary disease': [],\n",
              " 'malignant pleural mesothelioma': ['thoracotomy , radiotherapy , and chemotherapy'],\n",
              " 'edema': [],\n",
              " 'dyskinesias': [],\n",
              " 'hearing loss': [],\n",
              " 'darier disease': [],\n",
              " 'tumor necrosis factor-alpha': [],\n",
              " 'tss': [],\n",
              " 'hemorrhagic shock': [],\n",
              " 'encephalopathy': [],\n",
              " 'pulmonary symptoms attributable': ['chemotherapy'],\n",
              " 'mediastinal teratomas': ['chemotherapy'],\n",
              " 'revascularizations': [],\n",
              " 'non-obstructive azoospermia': ['testicular sperm retrieval by testicular fine needle aspiration ( tefna',\n",
              "  'open biopsy and testicular sperm extraction ( tese )',\n",
              "  'tefna'],\n",
              " 'testicular bleeding': ['fine needle aspiration', 'tese'],\n",
              " 'mantle cell lymphoma': [],\n",
              " 'b cell lymphomas': [],\n",
              " 'acute lymphoblastic leukaemias': [],\n",
              " 'hormonal dysfunction': [],\n",
              " 'endometriosis': [],\n",
              " 'hyperlipidemias': [],\n",
              " 'acute migraine treatment': ['sumatriptan'],\n",
              " 'diabetes': [],\n",
              " 'deep vein thrombosis ( dvt )': [],\n",
              " 'hypertension': [],\n",
              " 'hepatocerebral degeneration ( portal systemic encephalopathy )': [],\n",
              " 'mastitis': [],\n",
              " 'cervical carcinoma': [],\n",
              " 'rhesus haemolytic disease': [],\n",
              " 'malignancy': [],\n",
              " 'duodenal ulcer': ['gastrectomy'],\n",
              " 'childhood schizophrenia': [],\n",
              " 'congenital adrenal hyperplasia': [],\n",
              " \"laennec 's cirrhosis\": [],\n",
              " 'renal stones': [],\n",
              " 'stone disease': [],\n",
              " 'adenocarcinoma': [],\n",
              " 'congenital anomalies': [],\n",
              " 'ovarian carcinoma': [],\n",
              " 'perforated peptic ulcer': [],\n",
              " 'gynaecological pain': [],\n",
              " 'corticoid preparations': [],\n",
              " 'heart congestive failure': [],\n",
              " 'biliary indication': [],\n",
              " 'rhinitis': [],\n",
              " 'piglet influenza': [],\n",
              " 'chronic progressive external ophthalmoplegia': [],\n",
              " 'cystic periventricular leukomalacia': [],\n",
              " 'metastasis of laryngeal carcinomas': [],\n",
              " 'hiv infection': [],\n",
              " 'graft spasm': [],\n",
              " 'renal dysfunction': [],\n",
              " 'colorectal cancer': ['elective surgery',\n",
              "  'leucovorin or cisplatin',\n",
              "  'uft',\n",
              "  'docosahexanoic acid ( dha ) -concentrated fish oil'],\n",
              " \"leukaemia and non-hodgkin 's lymphoma\": [],\n",
              " 'childhood acute lymphoblastic leukaemia': [],\n",
              " 'gastrointestinal tumours': ['elective surgery'],\n",
              " 'attention deficit hyperactivity disorder': ['methylphenidate'],\n",
              " 'chlamydia trachomatis': [],\n",
              " 'anemia of end-stage renal disease': [],\n",
              " 'malignant lymphomas': [],\n",
              " 'polymyalgia rheumatica and temporal arteritis': [],\n",
              " 'obstructive sleep apnoea': [],\n",
              " 'coronary heart disease': [],\n",
              " 'mortality in russia': [],\n",
              " 'primary pulmonary hypertension': ['fenfluramine and dexfenfluramine'],\n",
              " 'restenosis after coronary angioplasty': [],\n",
              " \"oral crohn 's disease\": ['thalidomide'],\n",
              " 'atrial fibrillation': ['antiplatelet therapy'],\n",
              " 'progressive sensorineural hearing loss': [],\n",
              " 'female androgenetic alopecia': [],\n",
              " 'gestational diabetes': [],\n",
              " 'leprosy': [],\n",
              " 'bronchial asthma': [],\n",
              " 'disconnection syndrome': [],\n",
              " 'spontaneous splenic rupture': [],\n",
              " 'severe accidental hypothermia victims': [],\n",
              " 'hiv/aids': [],\n",
              " 'gunshot wounds': [],\n",
              " 'blastocystis hominis infection': [],\n",
              " 'multiple sclerosis': ['interferon beta treatment',\n",
              "  'intravenous immunoglobulin treatment'],\n",
              " 'cda opposes proposed hbv recommendations': [],\n",
              " 'does hyperglycemia really cause coronary heart disease': [],\n",
              " 'primary stomach lymphoma': [],\n",
              " 'systemic lupus erythematosus': [],\n",
              " 'mite dermatitis': [],\n",
              " 'lung cancer': [],\n",
              " 'metastatic malignant mesothelioma': [],\n",
              " 'colonic polyps': [],\n",
              " 'murine hepatitis virus strain 3 infection': [],\n",
              " 'alopecia': ['tacrolimus therapy'],\n",
              " 'synovial sarcoma': [],\n",
              " 'fibromyalgia': [],\n",
              " 'small cell lung cancer': ['prophylactic cranial irradiation prolongs'],\n",
              " 'acute respiratory distress syndrome': [],\n",
              " 'homeopathy': [],\n",
              " 'sporadic non-syndromal sensorineural deafness': [],\n",
              " 'chronic hepatitis': [],\n",
              " 'pendred syndrome': [],\n",
              " 'paramecium primaurelia and paramecium tetraurelia': [],\n",
              " 'kaposi sarcoma-associated herpesvirus infection': [],\n",
              " 'diabetes and hyperlipidemias': [],\n",
              " 'cardiac insufficiency': [],\n",
              " 'malignant soft tissue sarcomas': [],\n",
              " 'soft tissue sarcomas': ['radiotherapy'],\n",
              " 'intramedullary metastases of bronchogenic carcinoma': [],\n",
              " 'pseudo-lymphoma': [],\n",
              " 'auditory perception disorders': [],\n",
              " 'cortical lesions': [],\n",
              " 'cerebral injuries': [],\n",
              " 'coronary endothelial dysfunction': [],\n",
              " 'myocardial perfusion defects': [],\n",
              " 'ectopic pregnancy': [],\n",
              " 'nonneoplastic disorders': [],\n",
              " \"alzheimer 's disease\": [],\n",
              " \"eisenmenger 's syndrome\": ['laparoscopic cholecystectomy'],\n",
              " 'continuous ambulatory peritoneal dialysis': [],\n",
              " 'advanced esophageal cancer': ['adjuvant chemoradiotherapy with cddp , 5-fu'],\n",
              " 'intractable seizures': [],\n",
              " 'new-onset angina preceding acute myocardial infarction': [],\n",
              " 'congenital bilateral aplasia': [],\n",
              " 'hypercholesterolemia': [],\n",
              " 'microalbuminuria': [],\n",
              " 'insulin-dependent diabetes mellitus': [],\n",
              " 'mucosal irregularities': [],\n",
              " 'aids exceptionalism': [],\n",
              " 'myoepithelial carcinoma': [],\n",
              " 'pleomorphic adenoma': [],\n",
              " 'tuberous sclerosis complex': [],\n",
              " 'homocystinuria': [],\n",
              " 'inducible nitric oxide': [],\n",
              " 'malaria': [],\n",
              " 'severe psoriasis': ['systemic treatments'],\n",
              " 'leukemia': ['trisomy'],\n",
              " 'acute obstructive hydrocephalus complicating bacterial meningitis': [],\n",
              " 'refractory pouchitis': [],\n",
              " 'non-seminomatous germ-cell tumors': ['chemotherapy'],\n",
              " 'lung metastasis': [],\n",
              " 'inhibiting lung metastasis': [],\n",
              " 'preclinical prostate cancer': ['il-12 ) gene therapy'],\n",
              " 'some malignant tumors': ['paclitaxel and carboplatin'],\n",
              " 'non-small cell lung cancer': ['paclitaxel and carboplatin'],\n",
              " 'advanced nsclc with manageable toxicities': [],\n",
              " 'recurrent cervical adenocarcinoma': [],\n",
              " 'common cold': ['pseudoephedrine plus acetaminophen',\n",
              "  'macrolide antibiotics'],\n",
              " 'influenza': ['vaccination'],\n",
              " 'influenza control': ['vaccination'],\n",
              " 'abdominal pain': [],\n",
              " 'pain': [],\n",
              " 'pleuritic pain': [],\n",
              " 'fungal infections': [],\n",
              " 'inflammatory skin diseases': ['topical corticosteroids'],\n",
              " 'unresectable stage iii nsclc': ['chemotherapy followed by radiation'],\n",
              " 'nsclc': ['got surgical treatment',\n",
              "  'radiotherapy',\n",
              "  'got surgical treatment',\n",
              "  'radiotherapy',\n",
              "  'platinum-based chemotherapy',\n",
              "  'chemotherapy'],\n",
              " 'sclc': ['got surgical treatment',\n",
              "  'radiotherapy',\n",
              "  'got surgical treatment',\n",
              "  'radiotherapy',\n",
              "  'platinum-based chemotherapy',\n",
              "  'chemotherapy'],\n",
              " 'bos': ['therapy with extracorporeal photopheresis'],\n",
              " 'acute rejection episode': ['therapy with extracorporeal photopheresis'],\n",
              " 'early bos': ['extracorporeal photopheresis'],\n",
              " 'locally advanced non-small-cell lung cancer ( la-nsclc )': ['chemotherapy and radiotherapy )'],\n",
              " 'radiation-induced myelopathy': ['heparin and enoxaparin'],\n",
              " 'limited stage small cell lung cancer': ['vip combination chemotherapy'],\n",
              " 'malignant pleural effusions from nsclc': ['systemic chemotherapy'],\n",
              " 'small-cell lung cancer': ['chemotherapy',\n",
              "  'combination chemotherapy',\n",
              "  'paclitaxel plus carboplatin ( pc )',\n",
              "  'vinorelbine plus cisplatin'],\n",
              " 'intraluminal early-stage cancer': [],\n",
              " 'pathologic stage i non-small cell lung cancer': [],\n",
              " 'supraclavicular node metastases in nsclc': ['chemoradiotherapy'],\n",
              " 'non-small-cell-lung-cancer ( nsclc )': ['cisplatin and radiotherapy'],\n",
              " 'esophageal and tracheobronchial stenoses': [],\n",
              " 'esophageal cancer': [],\n",
              " 'lung cancer )': [],\n",
              " 'osteogenic sarcoma': [],\n",
              " 'lung carcinoma': ['videothoracoscopic lobectomy or partial resection',\n",
              "  'open thoracotomy',\n",
              "  'curative therapy'],\n",
              " 'large lesions': ['gks'],\n",
              " 'single non-sclc': ['surgical resection'],\n",
              " 'melanoma': ['surgical resection'],\n",
              " 'ovarian carcinoma brain metastasis': ['surgical resection'],\n",
              " 'colorectal metastases': ['therapeutic vats metastasectomy'],\n",
              " 'limited-stage small-cell carcinoma': [],\n",
              " 'advanced nsclc': ['combination chemotherapy of cisplatin , ifosfamide and irinotecan with rhg-csf support'],\n",
              " 'metastatic colorectal cancer': ['intravenous oxaliplatin'],\n",
              " 'platinum-pretreated ovarian cancer': ['oxaliplatin'],\n",
              " \"non-hodgkin 's lymphoma\": ['oxaliplatin'],\n",
              " 'mesothelioma and non-small cell lung cancer': ['oxaliplatin'],\n",
              " 'other cancers': ['oxaliplatin'],\n",
              " 'primary tumor': ['resection'],\n",
              " 'bronchogenic carcinoma': ['resection'],\n",
              " 'advanced hormone refractory prostate cancer': ['paclitaxel and carboplatin'],\n",
              " 'primary lung cancer': ['resection'],\n",
              " 'adenocarcinoma ( ad )': ['resection'],\n",
              " 'squamous cell carcinoma': ['resection'],\n",
              " 'stage iii nsclc': ['chemotherapy administered before surgery'],\n",
              " 'tumor vaccines': [],\n",
              " 'primary cancer': ['adjuvant radiation therapy', 'immunotherapy'],\n",
              " 'untreated small cell lung cancer ( sclc )': ['chemotherapy'],\n",
              " 'untreated sclc': ['chemotherapy'],\n",
              " 'pulmonary hypertension': [],\n",
              " 'neutropenia': [],\n",
              " 'head and neck cancer': ['irradiation therapy', 'intravenous amifostine'],\n",
              " ' xerostomia': ['irradiation therapy', 'intravenous amifostine'],\n",
              " 'carbon monoxide poisoning': [],\n",
              " 'acute myocardial infarction': ['thrombolytic therapy',\n",
              "  'thrombolytic treatment'],\n",
              " 'psoriasis': ['active vitamin d3 analogue , 1 alpha , 24-dihydroxycholecalciferol'],\n",
              " 'disseminated malignant melanoma': ['leukocyte a recombinant interferon ( rifn-alpha a , roferon-a , hoffmann la roche )'],\n",
              " 'advanced stage ( tnm iib-ivb ) mycosis fungoides': ['combination chemotherapy program consisting of bleomycin and methotrexate weekly , doxorubicin every'],\n",
              " 'ventricular tachycardia': ['guiding surgical therapy'],\n",
              " 'colds': [],\n",
              " 'cholestasis': ['tj-135 )'],\n",
              " 'severe acute hepatitis accompanying cholestasis': ['tj-135'],\n",
              " 'autoimmune hepatitis': ['tj-135'],\n",
              " 'spinal adhesive arachnoiditis': ['surgical management'],\n",
              " 'bronchiectasis': ['antibiotics and surgery', 'current surgical therapy'],\n",
              " 'biliary colic symptoms': ['cholecystectomy'],\n",
              " 'biliary dyskinesia': ['cholecystectomy'],\n",
              " 'pulmonary aspergilloma': [],\n",
              " 'lung abscess': ['video-assisted thoracoscopic surgery'],\n",
              " 'inflammation': ['video-assisted thoracoscopic surgery'],\n",
              " 'viral infections': [],\n",
              " 'asthma': ['fluticasone propionate'],\n",
              " 'pneumocystis carinii pneumonia': [],\n",
              " 'acute nasopharyngitis': ['antibiotic treatment'],\n",
              " 'head lice': [],\n",
              " 'rhinovirus colds': ['clarithromycin',\n",
              "  'a combination of omeprazole , amoxicillin , and clarithromycin'],\n",
              " 'infection': ['clarithromycin',\n",
              "  'a combination of omeprazole , amoxicillin , and clarithromycin'],\n",
              " 'rhinovirus': ['clarithromycin',\n",
              "  'a combination of omeprazole , amoxicillin , and clarithromycin'],\n",
              " 'acute exacerbation of chronic bronchitis': [],\n",
              " 'pneumonia': [],\n",
              " 'mouse-adopted strain of influenza a2 ( h2n2 ) virus': ['gingyo-san'],\n",
              " 'carcinoma': ['drainage methods'],\n",
              " 'persistent asthma': ['contemporary asthma management guidelines list inhaled corticosteroids'],\n",
              " 'chronic hepatitis c': ['combination therapy with interferon-alpha ( ifn alpha ) plus ribavirin'],\n",
              " 'hepatitis c viremia': ['combination therapy'],\n",
              " 'cbd stones': ['one-time surgical exploration'],\n",
              " 'severe hypoxemia': ['he needed mechanical ventilation',\n",
              "  'glucocorticoid pulse therapy'],\n",
              " 'aom': ['amoxicillin remains the antibiotic of choice'],\n",
              " 'drug-resistant s. pneumoniae': ['amoxicillin remains the antibiotic of choice'],\n",
              " 'bacterial meningitis': ['new vaccines'],\n",
              " 'haemophilus influenzae meningitis': ['new vaccines'],\n",
              " 'bacterial pathogens': ['new vaccines'],\n",
              " 'asthmatic bronchitis': [],\n",
              " 'rsv bronchiolitis': [],\n",
              " 'primary sclerosing cholangitis': [],\n",
              " 'depression': [],\n",
              " 'hyponatremia': [],\n",
              " 'chronic renal failure': ['epoetin'],\n",
              " 'hypophosphatemia': ['epoetin'],\n",
              " 'ischemic heart disease': ['aortocoronary bypass grafting'],\n",
              " 'preexisting cancers': ['immunotherapy'],\n",
              " 'peritoneal tumors': ['subcutaneous injection of irradiated llc-il2'],\n",
              " 'acute occlusion of the middle cerebral artery': ['thrombolytic therapy'],\n",
              " 'forehead soft tissue mass': ['endoscopic removal'],\n",
              " 'benign prostatic hyperplasia': [],\n",
              " 'rheumatic pain herbal': [],\n",
              " 'autoimmune diseases': ['high-dose intravenous immunoglobulin ( hdivig )'],\n",
              " 'large midline incisional hernias': [],\n",
              " 'empyema': [],\n",
              " 'low-grade nhl': [],\n",
              " 'large-bowel cancer': ['oral uft'],\n",
              " 'phaeochromocytoma': ['adrenalectomy'],\n",
              " 'malignant melanoma': ['single agent therapy', 'interferon alfa-2a'],\n",
              " 'advanced renal cell carcinoma': ['interferon alpha preparations',\n",
              "  'interferon alfa-n1 , interferon alfa-2a , and interferon alfa-2b'],\n",
              " \"low-grade non-hodgkin 's lymphoma\": ['recombinant and natural forms of interferon alpha'],\n",
              " \"low-grade non-hodgkin 's lymphomas\": [],\n",
              " 'chronic myelogenous leukemia ( cml )': [],\n",
              " 'partial seizures': ['lamotrigine ( ltg )', 'lamotrigine monotherapy'],\n",
              " 'esophageal achalasia': ['botulinum toxin injection , pneumatic dilation , and laparoscopic myotomy'],\n",
              " 'irritable bowel syndrome': ['chinese herbal medicine'],\n",
              " 'proximal hypospadias': ['tubularized incised plate hypospadias repair'],\n",
              " 'tumors': ['immunotherapy'],\n",
              " 'haematoma block versus intravenous regional anaesthesia': [],\n",
              " 'mitomycin-resistant bladder cancer': ['mitomycin c'],\n",
              " 'b16 melanoma': ['adenosine triphosphate', 'buthionine sulfoximine'],\n",
              " 'primary uveal melanoma': ['transpupillary thermotherapy'],\n",
              " 'advanced rectal cancer': ['nerve-sparing surgery'],\n",
              " 'spontaneous pneumothorax': ['thoracoscopic surgery'],\n",
              " 'noncirrhotic portal hypertension': [],\n",
              " 'midline incisional hernias': [],\n",
              " 'acute cerebral ischemia': ['antiplatelet therapy'],\n",
              " 'hyperopia': [],\n",
              " 'renal cell carcinoma': ['interferon treatment'],\n",
              " 'odontogenic infections': ['antimicrobial treatment'],\n",
              " \"barrett 's esophagus\": ['acid suppression therapy'],\n",
              " 'autoimmune hemolytic anemia': ['heparin'],\n",
              " 'endometrial hyperplasia': [],\n",
              " 'epithelial ovarian cancer': ['high-dose chemotherapy'],\n",
              " 'sciatica': ['corticosteroid injections'],\n",
              " 'brain hemorrhage': ['antiplatelet therapy'],\n",
              " 'diabetes mellitus': ['troglitazone'],\n",
              " 'lymphoma': ['paclitaxel'],\n",
              " 'renovascular hypertension': [],\n",
              " 'acute repetitive seizures': [],\n",
              " 'acoustic neuroma': ['stereotactic radiosurgery'],\n",
              " 'postvitrectomy diabetic vitreous hemorrhage': ['peripheral retinal cryotherapy'],\n",
              " 'acute carbon monoxide poisoning': [],\n",
              " 'hepatitis b': ['vaccine containing mf59 adjuvant'],\n",
              " 'pertussis': [],\n",
              " 'temporomandibular joint arthropathy': ['arthroscopic treatment'],\n",
              " 'acute colonic pseudo-obstruction': [],\n",
              " 'perioperative mortality and myocardial infarction': ['vascular surgery'],\n",
              " 'severe secondary peritonitis': ['surgical management'],\n",
              " 'hepatic metastases from colorectal cancer': ['hepatic arterial infusion of chemotherapy after resection'],\n",
              " 'severe diverticular hemorrhage': [],\n",
              " 'stable asthma': ['aerosolized salbutamol'],\n",
              " 'arthritis': [],\n",
              " 'poliomyelitis': ['live oral poliovirus vaccines'],\n",
              " 'glaucoma': ['brimonidine tartrate'],\n",
              " 'responsive multiple myeloma': ['chemoradiotherapy with autologous stem-cell support']}"
            ]
          },
          "metadata": {},
          "execution_count": 47
        }
      ]
    },
    {
      "cell_type": "markdown",
      "source": [
        "1. It can be observed that several diseases do not have any identified treatments from our text corpus.\n",
        "2. Avoid including these diseases in our final dictionary of diseases and corresponding treatments."
      ],
      "metadata": {
        "id": "Oi4B_tPL3HIX"
      }
    },
    {
      "cell_type": "code",
      "source": [
        "# Obtaining a neat version of our \"disease_treatment\" dictionary\n",
        "neat_dict = {}\n",
        "for key in disease_treatment.keys():\n",
        "    if disease_treatment[key] != []:\n",
        "        neat_dict[key] = disease_treatment[key]\n",
        "neat_dict\n"
      ],
      "metadata": {
        "colab": {
          "base_uri": "https://localhost:8080/"
        },
        "id": "1ns_RQou3cMw",
        "outputId": "b7b32bb7-7b3e-43de-bbf4-09a6956fd738"
      },
      "execution_count": 48,
      "outputs": [
        {
          "output_type": "execute_result",
          "data": {
            "text/plain": [
              "{'macrosomic infants in gestational diabetes cases': ['good glycemic control'],\n",
              " 'nonimmune hydrops fetalis': ['trisomy'],\n",
              " 'preeclampsia': ['insemination program'],\n",
              " 'cancer': ['radiotherapy',\n",
              "  'organ transplantation and chemotherapy',\n",
              "  'chemotherapy',\n",
              "  'matrix metalloproteinase inhibitors'],\n",
              " 'breast cancer': ['hormone replacement therapy',\n",
              "  'oxaliplatin',\n",
              "  'vaccination',\n",
              "  'undergone subcutaneous mastectomy'],\n",
              " 'ovarian cancer': ['hormone replacement therapy',\n",
              "  'oxaliplatin',\n",
              "  'vaccination',\n",
              "  'undergone subcutaneous mastectomy'],\n",
              " 'prostate cancer': ['radical prostatectomy and iodine 125 interstitial radiotherapy'],\n",
              " 'hereditary retinoblastoma': ['radiotherapy'],\n",
              " 'epilepsy': ['methylphenidate', 'methylphenidate'],\n",
              " 'adhd': ['methylphenidate', 'methylphenidate'],\n",
              " 'unstable angina or non-q-wave myocardial infarction': ['roxithromycin'],\n",
              " 'coronary-artery disease': ['antichlamydial antibiotics'],\n",
              " 'cerebral palsy': ['hyperbaric oxygen therapy'],\n",
              " 'primary pulmonary hypertension ( pph )': ['fenfluramines'],\n",
              " 'essential hypertension': ['moxonidine'],\n",
              " 'cellulitis': ['g-csf therapy', 'intravenous antibiotic treatment'],\n",
              " 'foot infection': ['g-csf treatment'],\n",
              " 'stroke': ['double-bolus alteplase', 'alteplase', 'antiplatelet therapy'],\n",
              " 'hemorrhagic stroke': ['double-bolus alteplase',\n",
              "  'alteplase',\n",
              "  'antiplatelet therapy'],\n",
              " 'cardiac disease': ['fenfluramine-phentermine'],\n",
              " 'rheumatoid arthritis': ['arthrodesis'],\n",
              " \"parkinson 's disease\": ['microelectrode-guided posteroventral pallidotomy'],\n",
              " \"early parkinson 's disease\": ['ropinirole monotherapy'],\n",
              " 'sore throat': ['antibiotics', 'antibiotics'],\n",
              " 'abdominal tuberculosis': ['steroids'],\n",
              " \"crohn 's disease\": ['steroids'],\n",
              " 'female stress urinary incontinence': ['surgical treatment'],\n",
              " 'preeclampsia ( proteinuric hypertension': ['intrauterine insemination with donor sperm versus intrauterine insemination'],\n",
              " 'mild preeclampsia': ['insemination program'],\n",
              " 'severe acquired hyperammonemia': ['organ transplantation and chemotherapy'],\n",
              " 'major pulmonary embolism': ['thrombolytic treatment'],\n",
              " 'malignant pleural mesothelioma': ['thoracotomy , radiotherapy , and chemotherapy'],\n",
              " 'pulmonary symptoms attributable': ['chemotherapy'],\n",
              " 'mediastinal teratomas': ['chemotherapy'],\n",
              " 'non-obstructive azoospermia': ['testicular sperm retrieval by testicular fine needle aspiration ( tefna',\n",
              "  'open biopsy and testicular sperm extraction ( tese )',\n",
              "  'tefna'],\n",
              " 'testicular bleeding': ['fine needle aspiration', 'tese'],\n",
              " 'acute migraine treatment': ['sumatriptan'],\n",
              " 'duodenal ulcer': ['gastrectomy'],\n",
              " 'colorectal cancer': ['elective surgery',\n",
              "  'leucovorin or cisplatin',\n",
              "  'uft',\n",
              "  'docosahexanoic acid ( dha ) -concentrated fish oil'],\n",
              " 'gastrointestinal tumours': ['elective surgery'],\n",
              " 'attention deficit hyperactivity disorder': ['methylphenidate'],\n",
              " 'primary pulmonary hypertension': ['fenfluramine and dexfenfluramine'],\n",
              " \"oral crohn 's disease\": ['thalidomide'],\n",
              " 'atrial fibrillation': ['antiplatelet therapy'],\n",
              " 'multiple sclerosis': ['interferon beta treatment',\n",
              "  'intravenous immunoglobulin treatment'],\n",
              " 'alopecia': ['tacrolimus therapy'],\n",
              " 'small cell lung cancer': ['prophylactic cranial irradiation prolongs'],\n",
              " 'soft tissue sarcomas': ['radiotherapy'],\n",
              " \"eisenmenger 's syndrome\": ['laparoscopic cholecystectomy'],\n",
              " 'advanced esophageal cancer': ['adjuvant chemoradiotherapy with cddp , 5-fu'],\n",
              " 'severe psoriasis': ['systemic treatments'],\n",
              " 'leukemia': ['trisomy'],\n",
              " 'non-seminomatous germ-cell tumors': ['chemotherapy'],\n",
              " 'preclinical prostate cancer': ['il-12 ) gene therapy'],\n",
              " 'some malignant tumors': ['paclitaxel and carboplatin'],\n",
              " 'non-small cell lung cancer': ['paclitaxel and carboplatin'],\n",
              " 'common cold': ['pseudoephedrine plus acetaminophen',\n",
              "  'macrolide antibiotics'],\n",
              " 'influenza': ['vaccination'],\n",
              " 'influenza control': ['vaccination'],\n",
              " 'inflammatory skin diseases': ['topical corticosteroids'],\n",
              " 'unresectable stage iii nsclc': ['chemotherapy followed by radiation'],\n",
              " 'nsclc': ['got surgical treatment',\n",
              "  'radiotherapy',\n",
              "  'got surgical treatment',\n",
              "  'radiotherapy',\n",
              "  'platinum-based chemotherapy',\n",
              "  'chemotherapy'],\n",
              " 'sclc': ['got surgical treatment',\n",
              "  'radiotherapy',\n",
              "  'got surgical treatment',\n",
              "  'radiotherapy',\n",
              "  'platinum-based chemotherapy',\n",
              "  'chemotherapy'],\n",
              " 'bos': ['therapy with extracorporeal photopheresis'],\n",
              " 'acute rejection episode': ['therapy with extracorporeal photopheresis'],\n",
              " 'early bos': ['extracorporeal photopheresis'],\n",
              " 'locally advanced non-small-cell lung cancer ( la-nsclc )': ['chemotherapy and radiotherapy )'],\n",
              " 'radiation-induced myelopathy': ['heparin and enoxaparin'],\n",
              " 'limited stage small cell lung cancer': ['vip combination chemotherapy'],\n",
              " 'malignant pleural effusions from nsclc': ['systemic chemotherapy'],\n",
              " 'small-cell lung cancer': ['chemotherapy',\n",
              "  'combination chemotherapy',\n",
              "  'paclitaxel plus carboplatin ( pc )',\n",
              "  'vinorelbine plus cisplatin'],\n",
              " 'supraclavicular node metastases in nsclc': ['chemoradiotherapy'],\n",
              " 'non-small-cell-lung-cancer ( nsclc )': ['cisplatin and radiotherapy'],\n",
              " 'lung carcinoma': ['videothoracoscopic lobectomy or partial resection',\n",
              "  'open thoracotomy',\n",
              "  'curative therapy'],\n",
              " 'large lesions': ['gks'],\n",
              " 'single non-sclc': ['surgical resection'],\n",
              " 'melanoma': ['surgical resection'],\n",
              " 'ovarian carcinoma brain metastasis': ['surgical resection'],\n",
              " 'colorectal metastases': ['therapeutic vats metastasectomy'],\n",
              " 'advanced nsclc': ['combination chemotherapy of cisplatin , ifosfamide and irinotecan with rhg-csf support'],\n",
              " 'metastatic colorectal cancer': ['intravenous oxaliplatin'],\n",
              " 'platinum-pretreated ovarian cancer': ['oxaliplatin'],\n",
              " \"non-hodgkin 's lymphoma\": ['oxaliplatin'],\n",
              " 'mesothelioma and non-small cell lung cancer': ['oxaliplatin'],\n",
              " 'other cancers': ['oxaliplatin'],\n",
              " 'primary tumor': ['resection'],\n",
              " 'bronchogenic carcinoma': ['resection'],\n",
              " 'advanced hormone refractory prostate cancer': ['paclitaxel and carboplatin'],\n",
              " 'primary lung cancer': ['resection'],\n",
              " 'adenocarcinoma ( ad )': ['resection'],\n",
              " 'squamous cell carcinoma': ['resection'],\n",
              " 'stage iii nsclc': ['chemotherapy administered before surgery'],\n",
              " 'primary cancer': ['adjuvant radiation therapy', 'immunotherapy'],\n",
              " 'untreated small cell lung cancer ( sclc )': ['chemotherapy'],\n",
              " 'untreated sclc': ['chemotherapy'],\n",
              " 'head and neck cancer': ['irradiation therapy', 'intravenous amifostine'],\n",
              " ' xerostomia': ['irradiation therapy', 'intravenous amifostine'],\n",
              " 'acute myocardial infarction': ['thrombolytic therapy',\n",
              "  'thrombolytic treatment'],\n",
              " 'psoriasis': ['active vitamin d3 analogue , 1 alpha , 24-dihydroxycholecalciferol'],\n",
              " 'disseminated malignant melanoma': ['leukocyte a recombinant interferon ( rifn-alpha a , roferon-a , hoffmann la roche )'],\n",
              " 'advanced stage ( tnm iib-ivb ) mycosis fungoides': ['combination chemotherapy program consisting of bleomycin and methotrexate weekly , doxorubicin every'],\n",
              " 'ventricular tachycardia': ['guiding surgical therapy'],\n",
              " 'cholestasis': ['tj-135 )'],\n",
              " 'severe acute hepatitis accompanying cholestasis': ['tj-135'],\n",
              " 'autoimmune hepatitis': ['tj-135'],\n",
              " 'spinal adhesive arachnoiditis': ['surgical management'],\n",
              " 'bronchiectasis': ['antibiotics and surgery', 'current surgical therapy'],\n",
              " 'biliary colic symptoms': ['cholecystectomy'],\n",
              " 'biliary dyskinesia': ['cholecystectomy'],\n",
              " 'lung abscess': ['video-assisted thoracoscopic surgery'],\n",
              " 'inflammation': ['video-assisted thoracoscopic surgery'],\n",
              " 'asthma': ['fluticasone propionate'],\n",
              " 'acute nasopharyngitis': ['antibiotic treatment'],\n",
              " 'rhinovirus colds': ['clarithromycin',\n",
              "  'a combination of omeprazole , amoxicillin , and clarithromycin'],\n",
              " 'infection': ['clarithromycin',\n",
              "  'a combination of omeprazole , amoxicillin , and clarithromycin'],\n",
              " 'rhinovirus': ['clarithromycin',\n",
              "  'a combination of omeprazole , amoxicillin , and clarithromycin'],\n",
              " 'mouse-adopted strain of influenza a2 ( h2n2 ) virus': ['gingyo-san'],\n",
              " 'carcinoma': ['drainage methods'],\n",
              " 'persistent asthma': ['contemporary asthma management guidelines list inhaled corticosteroids'],\n",
              " 'chronic hepatitis c': ['combination therapy with interferon-alpha ( ifn alpha ) plus ribavirin'],\n",
              " 'hepatitis c viremia': ['combination therapy'],\n",
              " 'cbd stones': ['one-time surgical exploration'],\n",
              " 'severe hypoxemia': ['he needed mechanical ventilation',\n",
              "  'glucocorticoid pulse therapy'],\n",
              " 'aom': ['amoxicillin remains the antibiotic of choice'],\n",
              " 'drug-resistant s. pneumoniae': ['amoxicillin remains the antibiotic of choice'],\n",
              " 'bacterial meningitis': ['new vaccines'],\n",
              " 'haemophilus influenzae meningitis': ['new vaccines'],\n",
              " 'bacterial pathogens': ['new vaccines'],\n",
              " 'chronic renal failure': ['epoetin'],\n",
              " 'hypophosphatemia': ['epoetin'],\n",
              " 'ischemic heart disease': ['aortocoronary bypass grafting'],\n",
              " 'preexisting cancers': ['immunotherapy'],\n",
              " 'peritoneal tumors': ['subcutaneous injection of irradiated llc-il2'],\n",
              " 'acute occlusion of the middle cerebral artery': ['thrombolytic therapy'],\n",
              " 'forehead soft tissue mass': ['endoscopic removal'],\n",
              " 'autoimmune diseases': ['high-dose intravenous immunoglobulin ( hdivig )'],\n",
              " 'large-bowel cancer': ['oral uft'],\n",
              " 'phaeochromocytoma': ['adrenalectomy'],\n",
              " 'malignant melanoma': ['single agent therapy', 'interferon alfa-2a'],\n",
              " 'advanced renal cell carcinoma': ['interferon alpha preparations',\n",
              "  'interferon alfa-n1 , interferon alfa-2a , and interferon alfa-2b'],\n",
              " \"low-grade non-hodgkin 's lymphoma\": ['recombinant and natural forms of interferon alpha'],\n",
              " 'partial seizures': ['lamotrigine ( ltg )', 'lamotrigine monotherapy'],\n",
              " 'esophageal achalasia': ['botulinum toxin injection , pneumatic dilation , and laparoscopic myotomy'],\n",
              " 'irritable bowel syndrome': ['chinese herbal medicine'],\n",
              " 'proximal hypospadias': ['tubularized incised plate hypospadias repair'],\n",
              " 'tumors': ['immunotherapy'],\n",
              " 'mitomycin-resistant bladder cancer': ['mitomycin c'],\n",
              " 'b16 melanoma': ['adenosine triphosphate', 'buthionine sulfoximine'],\n",
              " 'primary uveal melanoma': ['transpupillary thermotherapy'],\n",
              " 'advanced rectal cancer': ['nerve-sparing surgery'],\n",
              " 'spontaneous pneumothorax': ['thoracoscopic surgery'],\n",
              " 'acute cerebral ischemia': ['antiplatelet therapy'],\n",
              " 'renal cell carcinoma': ['interferon treatment'],\n",
              " 'odontogenic infections': ['antimicrobial treatment'],\n",
              " \"barrett 's esophagus\": ['acid suppression therapy'],\n",
              " 'autoimmune hemolytic anemia': ['heparin'],\n",
              " 'epithelial ovarian cancer': ['high-dose chemotherapy'],\n",
              " 'sciatica': ['corticosteroid injections'],\n",
              " 'brain hemorrhage': ['antiplatelet therapy'],\n",
              " 'diabetes mellitus': ['troglitazone'],\n",
              " 'lymphoma': ['paclitaxel'],\n",
              " 'acoustic neuroma': ['stereotactic radiosurgery'],\n",
              " 'postvitrectomy diabetic vitreous hemorrhage': ['peripheral retinal cryotherapy'],\n",
              " 'hepatitis b': ['vaccine containing mf59 adjuvant'],\n",
              " 'temporomandibular joint arthropathy': ['arthroscopic treatment'],\n",
              " 'perioperative mortality and myocardial infarction': ['vascular surgery'],\n",
              " 'severe secondary peritonitis': ['surgical management'],\n",
              " 'hepatic metastases from colorectal cancer': ['hepatic arterial infusion of chemotherapy after resection'],\n",
              " 'stable asthma': ['aerosolized salbutamol'],\n",
              " 'poliomyelitis': ['live oral poliovirus vaccines'],\n",
              " 'glaucoma': ['brimonidine tartrate'],\n",
              " 'responsive multiple myeloma': ['chemoradiotherapy with autologous stem-cell support']}"
            ]
          },
          "metadata": {},
          "execution_count": 48
        }
      ]
    },
    {
      "cell_type": "code",
      "source": [
        "# Converting dictionary to a dataframe\n",
        "neat_df = pd.DataFrame({\"Disease\":neat_dict.keys(),\"Treatments\":neat_dict.values()})\n",
        "neat_df.head()"
      ],
      "metadata": {
        "colab": {
          "base_uri": "https://localhost:8080/",
          "height": 206
        },
        "id": "WlfUp54y3sJr",
        "outputId": "a7be8075-4baf-417a-d2dd-31096af55273"
      },
      "execution_count": 49,
      "outputs": [
        {
          "output_type": "execute_result",
          "data": {
            "text/plain": [
              "                                            Disease  \\\n",
              "0  macrosomic infants in gestational diabetes cases   \n",
              "1                         nonimmune hydrops fetalis   \n",
              "2                                      preeclampsia   \n",
              "3                                            cancer   \n",
              "4                                     breast cancer   \n",
              "\n",
              "                                          Treatments  \n",
              "0                            [good glycemic control]  \n",
              "1                                          [trisomy]  \n",
              "2                             [insemination program]  \n",
              "3  [radiotherapy, organ transplantation and chemo...  \n",
              "4  [hormone replacement therapy, oxaliplatin, vac...  "
            ],
            "text/html": [
              "\n",
              "  <div id=\"df-2aab27bd-c52f-42da-86bf-a94b90c1dd5a\">\n",
              "    <div class=\"colab-df-container\">\n",
              "      <div>\n",
              "<style scoped>\n",
              "    .dataframe tbody tr th:only-of-type {\n",
              "        vertical-align: middle;\n",
              "    }\n",
              "\n",
              "    .dataframe tbody tr th {\n",
              "        vertical-align: top;\n",
              "    }\n",
              "\n",
              "    .dataframe thead th {\n",
              "        text-align: right;\n",
              "    }\n",
              "</style>\n",
              "<table border=\"1\" class=\"dataframe\">\n",
              "  <thead>\n",
              "    <tr style=\"text-align: right;\">\n",
              "      <th></th>\n",
              "      <th>Disease</th>\n",
              "      <th>Treatments</th>\n",
              "    </tr>\n",
              "  </thead>\n",
              "  <tbody>\n",
              "    <tr>\n",
              "      <th>0</th>\n",
              "      <td>macrosomic infants in gestational diabetes cases</td>\n",
              "      <td>[good glycemic control]</td>\n",
              "    </tr>\n",
              "    <tr>\n",
              "      <th>1</th>\n",
              "      <td>nonimmune hydrops fetalis</td>\n",
              "      <td>[trisomy]</td>\n",
              "    </tr>\n",
              "    <tr>\n",
              "      <th>2</th>\n",
              "      <td>preeclampsia</td>\n",
              "      <td>[insemination program]</td>\n",
              "    </tr>\n",
              "    <tr>\n",
              "      <th>3</th>\n",
              "      <td>cancer</td>\n",
              "      <td>[radiotherapy, organ transplantation and chemo...</td>\n",
              "    </tr>\n",
              "    <tr>\n",
              "      <th>4</th>\n",
              "      <td>breast cancer</td>\n",
              "      <td>[hormone replacement therapy, oxaliplatin, vac...</td>\n",
              "    </tr>\n",
              "  </tbody>\n",
              "</table>\n",
              "</div>\n",
              "      <button class=\"colab-df-convert\" onclick=\"convertToInteractive('df-2aab27bd-c52f-42da-86bf-a94b90c1dd5a')\"\n",
              "              title=\"Convert this dataframe to an interactive table.\"\n",
              "              style=\"display:none;\">\n",
              "        \n",
              "  <svg xmlns=\"http://www.w3.org/2000/svg\" height=\"24px\"viewBox=\"0 0 24 24\"\n",
              "       width=\"24px\">\n",
              "    <path d=\"M0 0h24v24H0V0z\" fill=\"none\"/>\n",
              "    <path d=\"M18.56 5.44l.94 2.06.94-2.06 2.06-.94-2.06-.94-.94-2.06-.94 2.06-2.06.94zm-11 1L8.5 8.5l.94-2.06 2.06-.94-2.06-.94L8.5 2.5l-.94 2.06-2.06.94zm10 10l.94 2.06.94-2.06 2.06-.94-2.06-.94-.94-2.06-.94 2.06-2.06.94z\"/><path d=\"M17.41 7.96l-1.37-1.37c-.4-.4-.92-.59-1.43-.59-.52 0-1.04.2-1.43.59L10.3 9.45l-7.72 7.72c-.78.78-.78 2.05 0 2.83L4 21.41c.39.39.9.59 1.41.59.51 0 1.02-.2 1.41-.59l7.78-7.78 2.81-2.81c.8-.78.8-2.07 0-2.86zM5.41 20L4 18.59l7.72-7.72 1.47 1.35L5.41 20z\"/>\n",
              "  </svg>\n",
              "      </button>\n",
              "      \n",
              "  <style>\n",
              "    .colab-df-container {\n",
              "      display:flex;\n",
              "      flex-wrap:wrap;\n",
              "      gap: 12px;\n",
              "    }\n",
              "\n",
              "    .colab-df-convert {\n",
              "      background-color: #E8F0FE;\n",
              "      border: none;\n",
              "      border-radius: 50%;\n",
              "      cursor: pointer;\n",
              "      display: none;\n",
              "      fill: #1967D2;\n",
              "      height: 32px;\n",
              "      padding: 0 0 0 0;\n",
              "      width: 32px;\n",
              "    }\n",
              "\n",
              "    .colab-df-convert:hover {\n",
              "      background-color: #E2EBFA;\n",
              "      box-shadow: 0px 1px 2px rgba(60, 64, 67, 0.3), 0px 1px 3px 1px rgba(60, 64, 67, 0.15);\n",
              "      fill: #174EA6;\n",
              "    }\n",
              "\n",
              "    [theme=dark] .colab-df-convert {\n",
              "      background-color: #3B4455;\n",
              "      fill: #D2E3FC;\n",
              "    }\n",
              "\n",
              "    [theme=dark] .colab-df-convert:hover {\n",
              "      background-color: #434B5C;\n",
              "      box-shadow: 0px 1px 3px 1px rgba(0, 0, 0, 0.15);\n",
              "      filter: drop-shadow(0px 1px 2px rgba(0, 0, 0, 0.3));\n",
              "      fill: #FFFFFF;\n",
              "    }\n",
              "  </style>\n",
              "\n",
              "      <script>\n",
              "        const buttonEl =\n",
              "          document.querySelector('#df-2aab27bd-c52f-42da-86bf-a94b90c1dd5a button.colab-df-convert');\n",
              "        buttonEl.style.display =\n",
              "          google.colab.kernel.accessAllowed ? 'block' : 'none';\n",
              "\n",
              "        async function convertToInteractive(key) {\n",
              "          const element = document.querySelector('#df-2aab27bd-c52f-42da-86bf-a94b90c1dd5a');\n",
              "          const dataTable =\n",
              "            await google.colab.kernel.invokeFunction('convertToInteractive',\n",
              "                                                     [key], {});\n",
              "          if (!dataTable) return;\n",
              "\n",
              "          const docLinkHtml = 'Like what you see? Visit the ' +\n",
              "            '<a target=\"_blank\" href=https://colab.research.google.com/notebooks/data_table.ipynb>data table notebook</a>'\n",
              "            + ' to learn more about interactive tables.';\n",
              "          element.innerHTML = '';\n",
              "          dataTable['output_type'] = 'display_data';\n",
              "          await google.colab.output.renderOutput(dataTable, element);\n",
              "          const docLink = document.createElement('div');\n",
              "          docLink.innerHTML = docLinkHtml;\n",
              "          element.appendChild(docLink);\n",
              "        }\n",
              "      </script>\n",
              "    </div>\n",
              "  </div>\n",
              "  "
            ]
          },
          "metadata": {},
          "execution_count": 49
        }
      ]
    },
    {
      "cell_type": "code",
      "source": [
        "# Predict the treatment for the disease name: 'preeclampsia'\n",
        "\n",
        "search_item = 'preeclampsia'\n",
        "treatments = neat_dict[search_item]\n",
        "print(\"Treatments for '{0}' is/are \".format(search_item), end = \"\")\n",
        "for i in range(len(treatments)-1):\n",
        "    print(\"'{}'\".format(treatments[i]),\",\", end=\"\")\n",
        "print(\"'{}'\".format(treatments[-1]))"
      ],
      "metadata": {
        "colab": {
          "base_uri": "https://localhost:8080/"
        },
        "id": "PmWlmmqj38QN",
        "outputId": "7c6c934a-08a2-4782-9b30-325847fbe41d"
      },
      "execution_count": 50,
      "outputs": [
        {
          "output_type": "stream",
          "name": "stdout",
          "text": [
            "Treatments for 'preeclampsia' is/are 'insemination program'\n"
          ]
        }
      ]
    }
  ]
}